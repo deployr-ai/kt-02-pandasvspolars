{
 "cells": [
  {
   "cell_type": "markdown",
   "id": "efeaedf3",
   "metadata": {},
   "source": [
    "![Polars](img/polars.svg)"
   ]
  },
  {
   "cell_type": "code",
   "execution_count": 1,
   "id": "c36699b1",
   "metadata": {},
   "outputs": [
    {
     "data": {
      "text/plain": [
       "'0.20.31'"
      ]
     },
     "execution_count": 1,
     "metadata": {},
     "output_type": "execute_result"
    }
   ],
   "source": [
    "import polars as pl\n",
    "from datetime import datetime\n",
    "import time\n",
    "import numpy as np\n",
    "import matplotlib.pyplot as plt\n",
    "from scipy.stats import norm\n",
    "import random\n",
    "from matplotlib.offsetbox import (OffsetImage, AnnotationBbox)\n",
    "import matplotlib.cm as cm\n",
    "import matplotlib.colors as mcolors\n",
    "from pathlib import Path\n",
    "pl.__version__"
   ]
  },
  {
   "cell_type": "code",
   "execution_count": 2,
   "id": "c396e05e-9793-421f-a040-d9afa31462a2",
   "metadata": {},
   "outputs": [],
   "source": [
    "def get_metrics(sentence: str, repeat: int)-> list:\n",
    "    init_total = time.time()\n",
    "    res = []\n",
    "    for _ in range(repeat):\n",
    "        last_run = time.time()\n",
    "        exec(sentence)\n",
    "        res.append(time.time() - last_run)\n",
    "    print('Tiempo de ejecución:', time.time() - init_total, 'segundos')\n",
    "    return res"
   ]
  },
  {
   "cell_type": "code",
   "execution_count": 3,
   "id": "99d95852-dfdb-41c5-8f39-da1ea8f90d7e",
   "metadata": {},
   "outputs": [],
   "source": [
    "NUM_REP=20"
   ]
  },
  {
   "cell_type": "markdown",
   "id": "d3a42fd5-329d-4818-b329-79471d7b8c23",
   "metadata": {},
   "source": [
    "### Cargar el dataset\n",
    "\"Este dataset de Spotify de todos los gráficos \"Top 200\" y \"Viral 50\" publicados globalmente. Spotify publica un nuevo gráfico cada 2 o 3 días. Esta es su colección completa desde el 1 de enero de 2019 que  contiene 29 columnas por cada fila que se relleno utilizando la API de Spotify\".\n",
    "\n",
    "https://www.kaggle.com/datasets/sunnykakar/spotify-charts-all-audio-data/"
   ]
  },
  {
   "cell_type": "code",
   "execution_count": 4,
   "id": "81ddba2d-c623-4c0b-a7a8-38d0355c7d4f",
   "metadata": {},
   "outputs": [
    {
     "name": "stdout",
     "output_type": "stream",
     "text": [
      "Tiempo de ejecución: 41.61387586593628 segundos\n"
     ]
    },
    {
     "data": {
      "text/html": [
       "<div><style>\n",
       ".dataframe > thead > tr,\n",
       ".dataframe > tbody > tr {\n",
       "  text-align: right;\n",
       "  white-space: pre-wrap;\n",
       "}\n",
       "</style>\n",
       "<small>shape: (1_000_000, 30)</small><table border=\"1\" class=\"dataframe\"><thead><tr><th></th><th>Unnamed: 0</th><th>title</th><th>rank</th><th>date</th><th>artist</th><th>url</th><th>region</th><th>chart</th><th>trend</th><th>streams</th><th>track_id</th><th>album</th><th>popularity</th><th>duration_ms</th><th>explicit</th><th>release_date</th><th>available_markets</th><th>af_danceability</th><th>af_energy</th><th>af_key</th><th>af_loudness</th><th>af_mode</th><th>af_speechiness</th><th>af_acousticness</th><th>af_instrumentalness</th><th>af_liveness</th><th>af_valence</th><th>af_tempo</th><th>af_time_signature</th></tr><tr><td>i64</td><td>i64</td><td>str</td><td>i64</td><td>str</td><td>str</td><td>str</td><td>str</td><td>str</td><td>str</td><td>f64</td><td>str</td><td>str</td><td>f64</td><td>f64</td><td>bool</td><td>str</td><td>str</td><td>f64</td><td>f64</td><td>f64</td><td>f64</td><td>f64</td><td>f64</td><td>f64</td><td>f64</td><td>f64</td><td>f64</td><td>f64</td><td>f64</td></tr></thead><tbody><tr><td>0</td><td>0</td><td>&quot;Chantaje (feat. Maluma)&quot;</td><td>1</td><td>&quot;2017-01-01&quot;</td><td>&quot;Shakira&quot;</td><td>&quot;https://open.spotify.com/track…</td><td>&quot;Argentina&quot;</td><td>&quot;top200&quot;</td><td>&quot;SAME_POSITION&quot;</td><td>253019.0</td><td>&quot;6mICuAdrwEjh6Y6lroV2Kg&quot;</td><td>&quot;El Dorado&quot;</td><td>78.0</td><td>195840.0</td><td>false</td><td>&quot;2017-05-26&quot;</td><td>&quot;[&#x27;AR&#x27;, &#x27;AU&#x27;, &#x27;AT&#x27;, &#x27;BE&#x27;, &#x27;BO&#x27;,…</td><td>0.852</td><td>0.773</td><td>8.0</td><td>-2.921</td><td>0.0</td><td>0.0776</td><td>0.187</td><td>0.0000305</td><td>0.159</td><td>0.907</td><td>102.034</td><td>4.0</td></tr><tr><td>1</td><td>1</td><td>&quot;Vente Pa&#x27; Ca (feat. Maluma)&quot;</td><td>2</td><td>&quot;2017-01-01&quot;</td><td>&quot;Ricky Martin&quot;</td><td>&quot;https://open.spotify.com/track…</td><td>&quot;Argentina&quot;</td><td>&quot;top200&quot;</td><td>&quot;MOVE_UP&quot;</td><td>223988.0</td><td>&quot;7DM4BPaS7uofFul3ywMe46&quot;</td><td>&quot;Vente Pa&#x27; Ca (feat. Maluma)&quot;</td><td>72.0</td><td>259195.0</td><td>false</td><td>&quot;2016-09-22&quot;</td><td>&quot;[&#x27;AR&#x27;, &#x27;AU&#x27;, &#x27;AT&#x27;, &#x27;BE&#x27;, &#x27;BO&#x27;,…</td><td>0.663</td><td>0.92</td><td>11.0</td><td>-4.07</td><td>0.0</td><td>0.226</td><td>0.00431</td><td>0.0000169</td><td>0.101</td><td>0.533</td><td>99.935</td><td>4.0</td></tr><tr><td>2</td><td>2</td><td>&quot;Reggaetón Lento (Bailemos)&quot;</td><td>3</td><td>&quot;2017-01-01&quot;</td><td>&quot;CNCO&quot;</td><td>&quot;https://open.spotify.com/track…</td><td>&quot;Argentina&quot;</td><td>&quot;top200&quot;</td><td>&quot;MOVE_DOWN&quot;</td><td>210943.0</td><td>&quot;3AEZUABDXNtecAOSC1qTfo&quot;</td><td>&quot;Primera Cita&quot;</td><td>73.0</td><td>222560.0</td><td>false</td><td>&quot;2016-08-26&quot;</td><td>&quot;[&#x27;AR&#x27;, &#x27;AU&#x27;, &#x27;AT&#x27;, &#x27;BE&#x27;, &#x27;BO&#x27;,…</td><td>0.761</td><td>0.838</td><td>4.0</td><td>-3.073</td><td>0.0</td><td>0.0502</td><td>0.4</td><td>0.0</td><td>0.176</td><td>0.71</td><td>93.974</td><td>4.0</td></tr><tr><td>3</td><td>3</td><td>&quot;Safari&quot;</td><td>4</td><td>&quot;2017-01-01&quot;</td><td>&quot;J Balvin, Pharrell Williams, B…</td><td>&quot;https://open.spotify.com/track…</td><td>&quot;Argentina&quot;</td><td>&quot;top200&quot;</td><td>&quot;SAME_POSITION&quot;</td><td>173865.0</td><td>&quot;6rQSrBHf7HlZjtcMZ4S4bO&quot;</td><td>&quot;Energía&quot;</td><td>0.0</td><td>205600.0</td><td>false</td><td>&quot;2016-06-24&quot;</td><td>&quot;[]&quot;</td><td>0.508</td><td>0.687</td><td>0.0</td><td>-4.361</td><td>1.0</td><td>0.326</td><td>0.551</td><td>0.000003</td><td>0.126</td><td>0.555</td><td>180.044</td><td>4.0</td></tr><tr><td>4</td><td>4</td><td>&quot;Shaky Shaky&quot;</td><td>5</td><td>&quot;2017-01-01&quot;</td><td>&quot;Daddy Yankee&quot;</td><td>&quot;https://open.spotify.com/track…</td><td>&quot;Argentina&quot;</td><td>&quot;top200&quot;</td><td>&quot;MOVE_UP&quot;</td><td>153956.0</td><td>&quot;58IL315gMSTD37DOZPJ2hf&quot;</td><td>&quot;Shaky Shaky&quot;</td><td>0.0</td><td>234320.0</td><td>false</td><td>&quot;2016-04-08&quot;</td><td>&quot;[]&quot;</td><td>0.899</td><td>0.626</td><td>6.0</td><td>-4.228</td><td>0.0</td><td>0.292</td><td>0.076</td><td>0.0</td><td>0.0631</td><td>0.873</td><td>88.007</td><td>4.0</td></tr><tr><td>&hellip;</td><td>&hellip;</td><td>&hellip;</td><td>&hellip;</td><td>&hellip;</td><td>&hellip;</td><td>&hellip;</td><td>&hellip;</td><td>&hellip;</td><td>&hellip;</td><td>&hellip;</td><td>&hellip;</td><td>&hellip;</td><td>&hellip;</td><td>&hellip;</td><td>&hellip;</td><td>&hellip;</td><td>&hellip;</td><td>&hellip;</td><td>&hellip;</td><td>&hellip;</td><td>&hellip;</td><td>&hellip;</td><td>&hellip;</td><td>&hellip;</td><td>&hellip;</td><td>&hellip;</td><td>&hellip;</td><td>&hellip;</td><td>&hellip;</td></tr><tr><td>999995</td><td>999995</td><td>&quot;Me Dediqué a Perderte&quot;</td><td>146</td><td>&quot;2018-02-13&quot;</td><td>&quot;Alejandro Fernández&quot;</td><td>&quot;https://open.spotify.com/track…</td><td>&quot;Mexico&quot;</td><td>&quot;top200&quot;</td><td>&quot;MOVE_DOWN&quot;</td><td>54206.0</td><td>&quot;4NUt1fcnO9aQAELBgXq3Kr&quot;</td><td>&quot;A Corazón Abierto&quot;</td><td>76.0</td><td>231773.0</td><td>false</td><td>&quot;2004-09-01&quot;</td><td>&quot;[&#x27;AR&#x27;, &#x27;AU&#x27;, &#x27;AT&#x27;, &#x27;BE&#x27;, &#x27;BO&#x27;,…</td><td>0.642</td><td>0.442</td><td>8.0</td><td>-9.115</td><td>1.0</td><td>0.074</td><td>0.491</td><td>0.000002</td><td>0.102</td><td>0.465</td><td>148.01</td><td>4.0</td></tr><tr><td>999996</td><td>999996</td><td>&quot;Something Just Like This&quot;</td><td>147</td><td>&quot;2018-02-13&quot;</td><td>&quot;The Chainsmokers, Coldplay&quot;</td><td>&quot;https://open.spotify.com/track…</td><td>&quot;Mexico&quot;</td><td>&quot;top200&quot;</td><td>&quot;MOVE_DOWN&quot;</td><td>54122.0</td><td>&quot;6RUKPb4LETWmmr3iAEQktW&quot;</td><td>&quot;Memories...Do Not Open&quot;</td><td>88.0</td><td>247160.0</td><td>false</td><td>&quot;2017-04-07&quot;</td><td>&quot;[&#x27;AR&#x27;, &#x27;AU&#x27;, &#x27;AT&#x27;, &#x27;BE&#x27;, &#x27;BO&#x27;,…</td><td>0.617</td><td>0.635</td><td>11.0</td><td>-6.769</td><td>0.0</td><td>0.0317</td><td>0.0498</td><td>0.0000144</td><td>0.164</td><td>0.446</td><td>103.019</td><td>4.0</td></tr><tr><td>999997</td><td>999997</td><td>&quot;Feel It Still&quot;</td><td>148</td><td>&quot;2018-02-13&quot;</td><td>&quot;Portugal. The Man&quot;</td><td>&quot;https://open.spotify.com/track…</td><td>&quot;Mexico&quot;</td><td>&quot;top200&quot;</td><td>&quot;MOVE_UP&quot;</td><td>54092.0</td><td>&quot;6QgjcU0zLnzq5OrUoSZ3OK&quot;</td><td>&quot;Woodstock&quot;</td><td>81.0</td><td>163253.0</td><td>false</td><td>&quot;2017-06-16&quot;</td><td>&quot;[&#x27;AR&#x27;, &#x27;AU&#x27;, &#x27;AT&#x27;, &#x27;BE&#x27;, &#x27;BO&#x27;,…</td><td>0.801</td><td>0.795</td><td>1.0</td><td>-5.115</td><td>0.0</td><td>0.0504</td><td>0.0417</td><td>0.000113</td><td>0.0717</td><td>0.754</td><td>79.028</td><td>4.0</td></tr><tr><td>999998</td><td>999998</td><td>&quot;Ahora Dice - Real Hasta La Mue…</td><td>149</td><td>&quot;2018-02-13&quot;</td><td>&quot;Chris Jedi, J Balvin, Ozuna, C…</td><td>&quot;https://open.spotify.com/track…</td><td>&quot;Mexico&quot;</td><td>&quot;top200&quot;</td><td>&quot;NEW_ENTRY&quot;</td><td>53996.0</td><td>&quot;1fs9kTASuC9RJ9say6KX2K&quot;</td><td>&quot;Ahora Dice (Real Hasta La Muer…</td><td>0.0</td><td>275826.0</td><td>true</td><td>&quot;2018-02-12&quot;</td><td>&quot;[]&quot;</td><td>0.753</td><td>0.674</td><td>1.0</td><td>-5.735</td><td>1.0</td><td>0.219</td><td>0.27</td><td>0.0</td><td>0.116</td><td>0.602</td><td>143.92</td><td>4.0</td></tr><tr><td>999999</td><td>999999</td><td>&quot;Ay Mi Dios (feat. Pitbull, Yan…</td><td>150</td><td>&quot;2018-02-13&quot;</td><td>&quot;IAmChino, El Chacal&quot;</td><td>&quot;https://open.spotify.com/track…</td><td>&quot;Mexico&quot;</td><td>&quot;top200&quot;</td><td>&quot;MOVE_UP&quot;</td><td>53928.0</td><td>&quot;6stYbAJgTszHAHZMPxWWCY&quot;</td><td>&quot;Ay Mi Dios (feat. Pitbull, Yan…</td><td>0.0</td><td>252003.0</td><td>false</td><td>&quot;2016-02-22&quot;</td><td>&quot;[]&quot;</td><td>0.761</td><td>0.829</td><td>0.0</td><td>-3.203</td><td>0.0</td><td>0.0681</td><td>0.167</td><td>0.0</td><td>0.189</td><td>0.813</td><td>92.033</td><td>4.0</td></tr></tbody></table></div>"
      ],
      "text/plain": [
       "shape: (1_000_000, 30)\n",
       "┌────────┬────────────┬─────────────┬──────┬───┬─────────────┬────────────┬──────────┬─────────────┐\n",
       "│        ┆ Unnamed: 0 ┆ title       ┆ rank ┆ … ┆ af_liveness ┆ af_valence ┆ af_tempo ┆ af_time_sig │\n",
       "│ ---    ┆ ---        ┆ ---         ┆ ---  ┆   ┆ ---         ┆ ---        ┆ ---      ┆ nature      │\n",
       "│ i64    ┆ i64        ┆ str         ┆ i64  ┆   ┆ f64         ┆ f64        ┆ f64      ┆ ---         │\n",
       "│        ┆            ┆             ┆      ┆   ┆             ┆            ┆          ┆ f64         │\n",
       "╞════════╪════════════╪═════════════╪══════╪═══╪═════════════╪════════════╪══════════╪═════════════╡\n",
       "│ 0      ┆ 0          ┆ Chantaje    ┆ 1    ┆ … ┆ 0.159       ┆ 0.907      ┆ 102.034  ┆ 4.0         │\n",
       "│        ┆            ┆ (feat.      ┆      ┆   ┆             ┆            ┆          ┆             │\n",
       "│        ┆            ┆ Maluma)     ┆      ┆   ┆             ┆            ┆          ┆             │\n",
       "│ 1      ┆ 1          ┆ Vente Pa'   ┆ 2    ┆ … ┆ 0.101       ┆ 0.533      ┆ 99.935   ┆ 4.0         │\n",
       "│        ┆            ┆ Ca (feat.   ┆      ┆   ┆             ┆            ┆          ┆             │\n",
       "│        ┆            ┆ Maluma)     ┆      ┆   ┆             ┆            ┆          ┆             │\n",
       "│ 2      ┆ 2          ┆ Reggaetón   ┆ 3    ┆ … ┆ 0.176       ┆ 0.71       ┆ 93.974   ┆ 4.0         │\n",
       "│        ┆            ┆ Lento       ┆      ┆   ┆             ┆            ┆          ┆             │\n",
       "│        ┆            ┆ (Bailemos)  ┆      ┆   ┆             ┆            ┆          ┆             │\n",
       "│ 3      ┆ 3          ┆ Safari      ┆ 4    ┆ … ┆ 0.126       ┆ 0.555      ┆ 180.044  ┆ 4.0         │\n",
       "│ 4      ┆ 4          ┆ Shaky Shaky ┆ 5    ┆ … ┆ 0.0631      ┆ 0.873      ┆ 88.007   ┆ 4.0         │\n",
       "│ …      ┆ …          ┆ …           ┆ …    ┆ … ┆ …           ┆ …          ┆ …        ┆ …           │\n",
       "│ 999995 ┆ 999995     ┆ Me Dediqué  ┆ 146  ┆ … ┆ 0.102       ┆ 0.465      ┆ 148.01   ┆ 4.0         │\n",
       "│        ┆            ┆ a Perderte  ┆      ┆   ┆             ┆            ┆          ┆             │\n",
       "│ 999996 ┆ 999996     ┆ Something   ┆ 147  ┆ … ┆ 0.164       ┆ 0.446      ┆ 103.019  ┆ 4.0         │\n",
       "│        ┆            ┆ Just Like   ┆      ┆   ┆             ┆            ┆          ┆             │\n",
       "│        ┆            ┆ This        ┆      ┆   ┆             ┆            ┆          ┆             │\n",
       "│ 999997 ┆ 999997     ┆ Feel It     ┆ 148  ┆ … ┆ 0.0717      ┆ 0.754      ┆ 79.028   ┆ 4.0         │\n",
       "│        ┆            ┆ Still       ┆      ┆   ┆             ┆            ┆          ┆             │\n",
       "│ 999998 ┆ 999998     ┆ Ahora Dice  ┆ 149  ┆ … ┆ 0.116       ┆ 0.602      ┆ 143.92   ┆ 4.0         │\n",
       "│        ┆            ┆ - Real      ┆      ┆   ┆             ┆            ┆          ┆             │\n",
       "│        ┆            ┆ Hasta La    ┆      ┆   ┆             ┆            ┆          ┆             │\n",
       "│        ┆            ┆ Mue…        ┆      ┆   ┆             ┆            ┆          ┆             │\n",
       "│ 999999 ┆ 999999     ┆ Ay Mi Dios  ┆ 150  ┆ … ┆ 0.189       ┆ 0.813      ┆ 92.033   ┆ 4.0         │\n",
       "│        ┆            ┆ (feat.      ┆      ┆   ┆             ┆            ┆          ┆             │\n",
       "│        ┆            ┆ Pitbull,    ┆      ┆   ┆             ┆            ┆          ┆             │\n",
       "│        ┆            ┆ Yan…        ┆      ┆   ┆             ┆            ┆          ┆             │\n",
       "└────────┴────────────┴─────────────┴──────┴───┴─────────────┴────────────┴──────────┴─────────────┘"
      ]
     },
     "execution_count": 4,
     "metadata": {},
     "output_type": "execute_result"
    }
   ],
   "source": [
    "total_metrics = pl.DataFrame()\n",
    "total_metrics = total_metrics.with_columns(pl.Series(name=\"Load\", values=get_metrics(\"df = pl.read_csv('dataset/spotify_min.csv')\",NUM_REP)) )\n",
    "df = pl.read_csv(\"dataset/spotify_min.csv\")\n",
    "df"
   ]
  },
  {
   "cell_type": "code",
   "execution_count": 5,
   "id": "34c2c61a-91fa-45ac-a288-b3a019f2443e",
   "metadata": {
    "scrolled": true
   },
   "outputs": [
    {
     "data": {
      "text/plain": [
       "[Int64,\n",
       " Int64,\n",
       " String,\n",
       " Int64,\n",
       " String,\n",
       " String,\n",
       " String,\n",
       " String,\n",
       " String,\n",
       " String,\n",
       " Float64,\n",
       " String,\n",
       " String,\n",
       " Float64,\n",
       " Float64,\n",
       " Boolean,\n",
       " String,\n",
       " String,\n",
       " Float64,\n",
       " Float64,\n",
       " Float64,\n",
       " Float64,\n",
       " Float64,\n",
       " Float64,\n",
       " Float64,\n",
       " Float64,\n",
       " Float64,\n",
       " Float64,\n",
       " Float64,\n",
       " Float64]"
      ]
     },
     "execution_count": 5,
     "metadata": {},
     "output_type": "execute_result"
    }
   ],
   "source": [
    "df.dtypes"
   ]
  },
  {
   "cell_type": "code",
   "execution_count": 6,
   "id": "514ce93a-b657-4b24-8eac-c7465e03666b",
   "metadata": {},
   "outputs": [
    {
     "data": {
      "text/plain": [
       "(1000000, 30)"
      ]
     },
     "execution_count": 6,
     "metadata": {},
     "output_type": "execute_result"
    }
   ],
   "source": [
    "df.shape"
   ]
  },
  {
   "cell_type": "markdown",
   "id": "f72a9333-af4e-4a02-a373-7286cdbb562f",
   "metadata": {},
   "source": [
    "> \"pandas gives a label to each row with an index. Polars does not use an index and each row is indexed by its integer position in the table.\" <a href=\"https://docs.pola.rs/user-guide/migration/pandas/\">[1]</a>"
   ]
  },
  {
   "cell_type": "markdown",
   "id": "bbb00933-58f7-4814-b363-57ba9c472a73",
   "metadata": {},
   "source": [
    "<img src=\"img/Y.png\">"
   ]
  },
  {
   "cell_type": "markdown",
   "id": "1ad018cb-408d-485b-9e7a-b67e5a945f0f",
   "metadata": {},
   "source": [
    "<h2 style='color:#d2ff91;' align=\"center\">Seleccionando<h2>"
   ]
  },
  {
   "cell_type": "markdown",
   "id": "c64b4e88-1c57-4970-8638-981167a960bc",
   "metadata": {},
   "source": [
    "### Un subconjunto de columnas y filas"
   ]
  },
  {
   "cell_type": "markdown",
   "id": "d8a9e3a1-83d5-49d5-b33c-15b270302bb9",
   "metadata": {},
   "source": [
    "Pido 5 columnas aleatorias"
   ]
  },
  {
   "cell_type": "code",
   "execution_count": 7,
   "id": "3fe80479-b583-4654-a671-e464e3d12ee7",
   "metadata": {},
   "outputs": [
    {
     "data": {
      "text/plain": [
       "['title', 'release_date', 'af_energy', 'url', 'af_liveness']"
      ]
     },
     "execution_count": 7,
     "metadata": {},
     "output_type": "execute_result"
    }
   ],
   "source": [
    "rand_cols=random.sample(df.columns, 5) \n",
    "rand_cols"
   ]
  },
  {
   "cell_type": "code",
   "execution_count": 8,
   "id": "a051964b-577e-45c6-b779-a6e1bad62174",
   "metadata": {
    "scrolled": true
   },
   "outputs": [
    {
     "name": "stdout",
     "output_type": "stream",
     "text": [
      "Tiempo de ejecución: 0.0007302761077880859 segundos\n"
     ]
    },
    {
     "data": {
      "text/html": [
       "<div><style>\n",
       ".dataframe > thead > tr,\n",
       ".dataframe > tbody > tr {\n",
       "  text-align: right;\n",
       "  white-space: pre-wrap;\n",
       "}\n",
       "</style>\n",
       "<small>shape: (3, 5)</small><table border=\"1\" class=\"dataframe\"><thead><tr><th>title</th><th>release_date</th><th>af_energy</th><th>url</th><th>af_liveness</th></tr><tr><td>str</td><td>str</td><td>f64</td><td>str</td><td>f64</td></tr></thead><tbody><tr><td>&quot;Chantaje (feat. Maluma)&quot;</td><td>&quot;2017-05-26&quot;</td><td>0.773</td><td>&quot;https://open.spotify.com/track…</td><td>0.159</td></tr><tr><td>&quot;Vente Pa&#x27; Ca (feat. Maluma)&quot;</td><td>&quot;2016-09-22&quot;</td><td>0.92</td><td>&quot;https://open.spotify.com/track…</td><td>0.101</td></tr><tr><td>&quot;Reggaetón Lento (Bailemos)&quot;</td><td>&quot;2016-08-26&quot;</td><td>0.838</td><td>&quot;https://open.spotify.com/track…</td><td>0.176</td></tr></tbody></table></div>"
      ],
      "text/plain": [
       "shape: (3, 5)\n",
       "┌────────────────────────────┬──────────────┬───────────┬────────────────────────────┬─────────────┐\n",
       "│ title                      ┆ release_date ┆ af_energy ┆ url                        ┆ af_liveness │\n",
       "│ ---                        ┆ ---          ┆ ---       ┆ ---                        ┆ ---         │\n",
       "│ str                        ┆ str          ┆ f64       ┆ str                        ┆ f64         │\n",
       "╞════════════════════════════╪══════════════╪═══════════╪════════════════════════════╪═════════════╡\n",
       "│ Chantaje (feat. Maluma)    ┆ 2017-05-26   ┆ 0.773     ┆ https://open.spotify.com/t ┆ 0.159       │\n",
       "│                            ┆              ┆           ┆ rack…                      ┆             │\n",
       "│ Vente Pa' Ca (feat.        ┆ 2016-09-22   ┆ 0.92      ┆ https://open.spotify.com/t ┆ 0.101       │\n",
       "│ Maluma)                    ┆              ┆           ┆ rack…                      ┆             │\n",
       "│ Reggaetón Lento (Bailemos) ┆ 2016-08-26   ┆ 0.838     ┆ https://open.spotify.com/t ┆ 0.176       │\n",
       "│                            ┆              ┆           ┆ rack…                      ┆             │\n",
       "└────────────────────────────┴──────────────┴───────────┴────────────────────────────┴─────────────┘"
      ]
     },
     "execution_count": 8,
     "metadata": {},
     "output_type": "execute_result"
    }
   ],
   "source": [
    "total_metrics = total_metrics.with_columns(pl.Series(name=\"Select\", values=get_metrics(\"df[:3,rand_cols]\",NUM_REP)))\n",
    "df[:3,rand_cols]"
   ]
  },
  {
   "cell_type": "markdown",
   "id": "80b41fb6-0aa7-4095-a73d-ab4562777946",
   "metadata": {},
   "source": [
    "### Una celda específica "
   ]
  },
  {
   "cell_type": "code",
   "execution_count": 9,
   "id": "201a7b5c-97b3-48a2-b0a6-8db7047dc581",
   "metadata": {
    "scrolled": true
   },
   "outputs": [
    {
     "name": "stdout",
     "output_type": "stream",
     "text": [
      "Tiempo de ejecución: 0.0005347728729248047 segundos\n"
     ]
    },
    {
     "data": {
      "text/plain": [
       "0.0"
      ]
     },
     "execution_count": 9,
     "metadata": {},
     "output_type": "execute_result"
    }
   ],
   "source": [
    "total_metrics = total_metrics.with_columns(pl.Series(name=\"Select_Cell\", values=get_metrics(\"df[2,'af_instrumentalness']\",NUM_REP)))\n",
    "df[2,'af_instrumentalness']"
   ]
  },
  {
   "cell_type": "markdown",
   "id": "709a1a2e-0d23-4232-9b4d-fc4cf62ed4aa",
   "metadata": {},
   "source": [
    "<h2 style='color:#d2ff91;' align=\"center\">Operationes sobre columnas<h3>"
   ]
  },
  {
   "cell_type": "markdown",
   "id": "8f811135-4e5f-4091-9295-9602b83b0aa7",
   "metadata": {},
   "source": [
    "## Cambiando el tipo de una columna"
   ]
  },
  {
   "cell_type": "code",
   "execution_count": 10,
   "id": "c77227d1-a36b-481b-b49c-af03b7c62fc5",
   "metadata": {
    "scrolled": true
   },
   "outputs": [
    {
     "name": "stdout",
     "output_type": "stream",
     "text": [
      "Tiempo de ejecución: 0.2535414695739746 segundos\n"
     ]
    },
    {
     "data": {
      "text/html": [
       "<div><style>\n",
       ".dataframe > thead > tr,\n",
       ".dataframe > tbody > tr {\n",
       "  text-align: right;\n",
       "  white-space: pre-wrap;\n",
       "}\n",
       "</style>\n",
       "<small>shape: (1_000_000, 30)</small><table border=\"1\" class=\"dataframe\"><thead><tr><th></th><th>Unnamed: 0</th><th>title</th><th>rank</th><th>date</th><th>artist</th><th>url</th><th>region</th><th>chart</th><th>trend</th><th>streams</th><th>track_id</th><th>album</th><th>popularity</th><th>duration_ms</th><th>explicit</th><th>release_date</th><th>available_markets</th><th>af_danceability</th><th>af_energy</th><th>af_key</th><th>af_loudness</th><th>af_mode</th><th>af_speechiness</th><th>af_acousticness</th><th>af_instrumentalness</th><th>af_liveness</th><th>af_valence</th><th>af_tempo</th><th>af_time_signature</th></tr><tr><td>i64</td><td>i64</td><td>str</td><td>i64</td><td>date</td><td>str</td><td>str</td><td>str</td><td>str</td><td>str</td><td>f64</td><td>str</td><td>str</td><td>f64</td><td>f64</td><td>bool</td><td>str</td><td>str</td><td>f64</td><td>f64</td><td>f64</td><td>f64</td><td>f64</td><td>f64</td><td>f64</td><td>f64</td><td>f64</td><td>f64</td><td>f64</td><td>f64</td></tr></thead><tbody><tr><td>0</td><td>0</td><td>&quot;Chantaje (feat. Maluma)&quot;</td><td>1</td><td>2017-01-01</td><td>&quot;Shakira&quot;</td><td>&quot;https://open.spotify.com/track…</td><td>&quot;Argentina&quot;</td><td>&quot;top200&quot;</td><td>&quot;SAME_POSITION&quot;</td><td>253019.0</td><td>&quot;6mICuAdrwEjh6Y6lroV2Kg&quot;</td><td>&quot;El Dorado&quot;</td><td>78.0</td><td>195840.0</td><td>false</td><td>&quot;2017-05-26&quot;</td><td>&quot;[&#x27;AR&#x27;, &#x27;AU&#x27;, &#x27;AT&#x27;, &#x27;BE&#x27;, &#x27;BO&#x27;,…</td><td>0.852</td><td>0.773</td><td>8.0</td><td>-2.921</td><td>0.0</td><td>0.0776</td><td>0.187</td><td>0.0000305</td><td>0.159</td><td>0.907</td><td>102.034</td><td>4.0</td></tr><tr><td>1</td><td>1</td><td>&quot;Vente Pa&#x27; Ca (feat. Maluma)&quot;</td><td>2</td><td>2017-01-01</td><td>&quot;Ricky Martin&quot;</td><td>&quot;https://open.spotify.com/track…</td><td>&quot;Argentina&quot;</td><td>&quot;top200&quot;</td><td>&quot;MOVE_UP&quot;</td><td>223988.0</td><td>&quot;7DM4BPaS7uofFul3ywMe46&quot;</td><td>&quot;Vente Pa&#x27; Ca (feat. Maluma)&quot;</td><td>72.0</td><td>259195.0</td><td>false</td><td>&quot;2016-09-22&quot;</td><td>&quot;[&#x27;AR&#x27;, &#x27;AU&#x27;, &#x27;AT&#x27;, &#x27;BE&#x27;, &#x27;BO&#x27;,…</td><td>0.663</td><td>0.92</td><td>11.0</td><td>-4.07</td><td>0.0</td><td>0.226</td><td>0.00431</td><td>0.0000169</td><td>0.101</td><td>0.533</td><td>99.935</td><td>4.0</td></tr><tr><td>2</td><td>2</td><td>&quot;Reggaetón Lento (Bailemos)&quot;</td><td>3</td><td>2017-01-01</td><td>&quot;CNCO&quot;</td><td>&quot;https://open.spotify.com/track…</td><td>&quot;Argentina&quot;</td><td>&quot;top200&quot;</td><td>&quot;MOVE_DOWN&quot;</td><td>210943.0</td><td>&quot;3AEZUABDXNtecAOSC1qTfo&quot;</td><td>&quot;Primera Cita&quot;</td><td>73.0</td><td>222560.0</td><td>false</td><td>&quot;2016-08-26&quot;</td><td>&quot;[&#x27;AR&#x27;, &#x27;AU&#x27;, &#x27;AT&#x27;, &#x27;BE&#x27;, &#x27;BO&#x27;,…</td><td>0.761</td><td>0.838</td><td>4.0</td><td>-3.073</td><td>0.0</td><td>0.0502</td><td>0.4</td><td>0.0</td><td>0.176</td><td>0.71</td><td>93.974</td><td>4.0</td></tr><tr><td>3</td><td>3</td><td>&quot;Safari&quot;</td><td>4</td><td>2017-01-01</td><td>&quot;J Balvin, Pharrell Williams, B…</td><td>&quot;https://open.spotify.com/track…</td><td>&quot;Argentina&quot;</td><td>&quot;top200&quot;</td><td>&quot;SAME_POSITION&quot;</td><td>173865.0</td><td>&quot;6rQSrBHf7HlZjtcMZ4S4bO&quot;</td><td>&quot;Energía&quot;</td><td>0.0</td><td>205600.0</td><td>false</td><td>&quot;2016-06-24&quot;</td><td>&quot;[]&quot;</td><td>0.508</td><td>0.687</td><td>0.0</td><td>-4.361</td><td>1.0</td><td>0.326</td><td>0.551</td><td>0.000003</td><td>0.126</td><td>0.555</td><td>180.044</td><td>4.0</td></tr><tr><td>4</td><td>4</td><td>&quot;Shaky Shaky&quot;</td><td>5</td><td>2017-01-01</td><td>&quot;Daddy Yankee&quot;</td><td>&quot;https://open.spotify.com/track…</td><td>&quot;Argentina&quot;</td><td>&quot;top200&quot;</td><td>&quot;MOVE_UP&quot;</td><td>153956.0</td><td>&quot;58IL315gMSTD37DOZPJ2hf&quot;</td><td>&quot;Shaky Shaky&quot;</td><td>0.0</td><td>234320.0</td><td>false</td><td>&quot;2016-04-08&quot;</td><td>&quot;[]&quot;</td><td>0.899</td><td>0.626</td><td>6.0</td><td>-4.228</td><td>0.0</td><td>0.292</td><td>0.076</td><td>0.0</td><td>0.0631</td><td>0.873</td><td>88.007</td><td>4.0</td></tr><tr><td>&hellip;</td><td>&hellip;</td><td>&hellip;</td><td>&hellip;</td><td>&hellip;</td><td>&hellip;</td><td>&hellip;</td><td>&hellip;</td><td>&hellip;</td><td>&hellip;</td><td>&hellip;</td><td>&hellip;</td><td>&hellip;</td><td>&hellip;</td><td>&hellip;</td><td>&hellip;</td><td>&hellip;</td><td>&hellip;</td><td>&hellip;</td><td>&hellip;</td><td>&hellip;</td><td>&hellip;</td><td>&hellip;</td><td>&hellip;</td><td>&hellip;</td><td>&hellip;</td><td>&hellip;</td><td>&hellip;</td><td>&hellip;</td><td>&hellip;</td></tr><tr><td>999995</td><td>999995</td><td>&quot;Me Dediqué a Perderte&quot;</td><td>146</td><td>2018-02-13</td><td>&quot;Alejandro Fernández&quot;</td><td>&quot;https://open.spotify.com/track…</td><td>&quot;Mexico&quot;</td><td>&quot;top200&quot;</td><td>&quot;MOVE_DOWN&quot;</td><td>54206.0</td><td>&quot;4NUt1fcnO9aQAELBgXq3Kr&quot;</td><td>&quot;A Corazón Abierto&quot;</td><td>76.0</td><td>231773.0</td><td>false</td><td>&quot;2004-09-01&quot;</td><td>&quot;[&#x27;AR&#x27;, &#x27;AU&#x27;, &#x27;AT&#x27;, &#x27;BE&#x27;, &#x27;BO&#x27;,…</td><td>0.642</td><td>0.442</td><td>8.0</td><td>-9.115</td><td>1.0</td><td>0.074</td><td>0.491</td><td>0.000002</td><td>0.102</td><td>0.465</td><td>148.01</td><td>4.0</td></tr><tr><td>999996</td><td>999996</td><td>&quot;Something Just Like This&quot;</td><td>147</td><td>2018-02-13</td><td>&quot;The Chainsmokers, Coldplay&quot;</td><td>&quot;https://open.spotify.com/track…</td><td>&quot;Mexico&quot;</td><td>&quot;top200&quot;</td><td>&quot;MOVE_DOWN&quot;</td><td>54122.0</td><td>&quot;6RUKPb4LETWmmr3iAEQktW&quot;</td><td>&quot;Memories...Do Not Open&quot;</td><td>88.0</td><td>247160.0</td><td>false</td><td>&quot;2017-04-07&quot;</td><td>&quot;[&#x27;AR&#x27;, &#x27;AU&#x27;, &#x27;AT&#x27;, &#x27;BE&#x27;, &#x27;BO&#x27;,…</td><td>0.617</td><td>0.635</td><td>11.0</td><td>-6.769</td><td>0.0</td><td>0.0317</td><td>0.0498</td><td>0.0000144</td><td>0.164</td><td>0.446</td><td>103.019</td><td>4.0</td></tr><tr><td>999997</td><td>999997</td><td>&quot;Feel It Still&quot;</td><td>148</td><td>2018-02-13</td><td>&quot;Portugal. The Man&quot;</td><td>&quot;https://open.spotify.com/track…</td><td>&quot;Mexico&quot;</td><td>&quot;top200&quot;</td><td>&quot;MOVE_UP&quot;</td><td>54092.0</td><td>&quot;6QgjcU0zLnzq5OrUoSZ3OK&quot;</td><td>&quot;Woodstock&quot;</td><td>81.0</td><td>163253.0</td><td>false</td><td>&quot;2017-06-16&quot;</td><td>&quot;[&#x27;AR&#x27;, &#x27;AU&#x27;, &#x27;AT&#x27;, &#x27;BE&#x27;, &#x27;BO&#x27;,…</td><td>0.801</td><td>0.795</td><td>1.0</td><td>-5.115</td><td>0.0</td><td>0.0504</td><td>0.0417</td><td>0.000113</td><td>0.0717</td><td>0.754</td><td>79.028</td><td>4.0</td></tr><tr><td>999998</td><td>999998</td><td>&quot;Ahora Dice - Real Hasta La Mue…</td><td>149</td><td>2018-02-13</td><td>&quot;Chris Jedi, J Balvin, Ozuna, C…</td><td>&quot;https://open.spotify.com/track…</td><td>&quot;Mexico&quot;</td><td>&quot;top200&quot;</td><td>&quot;NEW_ENTRY&quot;</td><td>53996.0</td><td>&quot;1fs9kTASuC9RJ9say6KX2K&quot;</td><td>&quot;Ahora Dice (Real Hasta La Muer…</td><td>0.0</td><td>275826.0</td><td>true</td><td>&quot;2018-02-12&quot;</td><td>&quot;[]&quot;</td><td>0.753</td><td>0.674</td><td>1.0</td><td>-5.735</td><td>1.0</td><td>0.219</td><td>0.27</td><td>0.0</td><td>0.116</td><td>0.602</td><td>143.92</td><td>4.0</td></tr><tr><td>999999</td><td>999999</td><td>&quot;Ay Mi Dios (feat. Pitbull, Yan…</td><td>150</td><td>2018-02-13</td><td>&quot;IAmChino, El Chacal&quot;</td><td>&quot;https://open.spotify.com/track…</td><td>&quot;Mexico&quot;</td><td>&quot;top200&quot;</td><td>&quot;MOVE_UP&quot;</td><td>53928.0</td><td>&quot;6stYbAJgTszHAHZMPxWWCY&quot;</td><td>&quot;Ay Mi Dios (feat. Pitbull, Yan…</td><td>0.0</td><td>252003.0</td><td>false</td><td>&quot;2016-02-22&quot;</td><td>&quot;[]&quot;</td><td>0.761</td><td>0.829</td><td>0.0</td><td>-3.203</td><td>0.0</td><td>0.0681</td><td>0.167</td><td>0.0</td><td>0.189</td><td>0.813</td><td>92.033</td><td>4.0</td></tr></tbody></table></div>"
      ],
      "text/plain": [
       "shape: (1_000_000, 30)\n",
       "┌────────┬────────────┬─────────────┬──────┬───┬─────────────┬────────────┬──────────┬─────────────┐\n",
       "│        ┆ Unnamed: 0 ┆ title       ┆ rank ┆ … ┆ af_liveness ┆ af_valence ┆ af_tempo ┆ af_time_sig │\n",
       "│ ---    ┆ ---        ┆ ---         ┆ ---  ┆   ┆ ---         ┆ ---        ┆ ---      ┆ nature      │\n",
       "│ i64    ┆ i64        ┆ str         ┆ i64  ┆   ┆ f64         ┆ f64        ┆ f64      ┆ ---         │\n",
       "│        ┆            ┆             ┆      ┆   ┆             ┆            ┆          ┆ f64         │\n",
       "╞════════╪════════════╪═════════════╪══════╪═══╪═════════════╪════════════╪══════════╪═════════════╡\n",
       "│ 0      ┆ 0          ┆ Chantaje    ┆ 1    ┆ … ┆ 0.159       ┆ 0.907      ┆ 102.034  ┆ 4.0         │\n",
       "│        ┆            ┆ (feat.      ┆      ┆   ┆             ┆            ┆          ┆             │\n",
       "│        ┆            ┆ Maluma)     ┆      ┆   ┆             ┆            ┆          ┆             │\n",
       "│ 1      ┆ 1          ┆ Vente Pa'   ┆ 2    ┆ … ┆ 0.101       ┆ 0.533      ┆ 99.935   ┆ 4.0         │\n",
       "│        ┆            ┆ Ca (feat.   ┆      ┆   ┆             ┆            ┆          ┆             │\n",
       "│        ┆            ┆ Maluma)     ┆      ┆   ┆             ┆            ┆          ┆             │\n",
       "│ 2      ┆ 2          ┆ Reggaetón   ┆ 3    ┆ … ┆ 0.176       ┆ 0.71       ┆ 93.974   ┆ 4.0         │\n",
       "│        ┆            ┆ Lento       ┆      ┆   ┆             ┆            ┆          ┆             │\n",
       "│        ┆            ┆ (Bailemos)  ┆      ┆   ┆             ┆            ┆          ┆             │\n",
       "│ 3      ┆ 3          ┆ Safari      ┆ 4    ┆ … ┆ 0.126       ┆ 0.555      ┆ 180.044  ┆ 4.0         │\n",
       "│ 4      ┆ 4          ┆ Shaky Shaky ┆ 5    ┆ … ┆ 0.0631      ┆ 0.873      ┆ 88.007   ┆ 4.0         │\n",
       "│ …      ┆ …          ┆ …           ┆ …    ┆ … ┆ …           ┆ …          ┆ …        ┆ …           │\n",
       "│ 999995 ┆ 999995     ┆ Me Dediqué  ┆ 146  ┆ … ┆ 0.102       ┆ 0.465      ┆ 148.01   ┆ 4.0         │\n",
       "│        ┆            ┆ a Perderte  ┆      ┆   ┆             ┆            ┆          ┆             │\n",
       "│ 999996 ┆ 999996     ┆ Something   ┆ 147  ┆ … ┆ 0.164       ┆ 0.446      ┆ 103.019  ┆ 4.0         │\n",
       "│        ┆            ┆ Just Like   ┆      ┆   ┆             ┆            ┆          ┆             │\n",
       "│        ┆            ┆ This        ┆      ┆   ┆             ┆            ┆          ┆             │\n",
       "│ 999997 ┆ 999997     ┆ Feel It     ┆ 148  ┆ … ┆ 0.0717      ┆ 0.754      ┆ 79.028   ┆ 4.0         │\n",
       "│        ┆            ┆ Still       ┆      ┆   ┆             ┆            ┆          ┆             │\n",
       "│ 999998 ┆ 999998     ┆ Ahora Dice  ┆ 149  ┆ … ┆ 0.116       ┆ 0.602      ┆ 143.92   ┆ 4.0         │\n",
       "│        ┆            ┆ - Real      ┆      ┆   ┆             ┆            ┆          ┆             │\n",
       "│        ┆            ┆ Hasta La    ┆      ┆   ┆             ┆            ┆          ┆             │\n",
       "│        ┆            ┆ Mue…        ┆      ┆   ┆             ┆            ┆          ┆             │\n",
       "│ 999999 ┆ 999999     ┆ Ay Mi Dios  ┆ 150  ┆ … ┆ 0.189       ┆ 0.813      ┆ 92.033   ┆ 4.0         │\n",
       "│        ┆            ┆ (feat.      ┆      ┆   ┆             ┆            ┆          ┆             │\n",
       "│        ┆            ┆ Pitbull,    ┆      ┆   ┆             ┆            ┆          ┆             │\n",
       "│        ┆            ┆ Yan…        ┆      ┆   ┆             ┆            ┆          ┆             │\n",
       "└────────┴────────────┴─────────────┴──────┴───┴─────────────┴────────────┴──────────┴─────────────┘"
      ]
     },
     "execution_count": 10,
     "metadata": {},
     "output_type": "execute_result"
    }
   ],
   "source": [
    "total_metrics = total_metrics.with_columns(pl.Series(name=\"Change Type\", values= get_metrics(\"df.with_columns(pl.col('date').str.to_date(format='%Y-%m-%d'))\",NUM_REP)))\n",
    "df=df.with_columns(pl.col('date').str.to_date(format='%Y-%m-%d'))\n",
    "df"
   ]
  },
  {
   "cell_type": "markdown",
   "id": "1ae24163-b8a9-4899-9ed3-bf607077ee90",
   "metadata": {},
   "source": [
    "## Concatenando una columna"
   ]
  },
  {
   "cell_type": "code",
   "execution_count": 11,
   "id": "c6236fc7-f0e0-45a7-bcca-fd66fa97d3eb",
   "metadata": {},
   "outputs": [
    {
     "name": "stdout",
     "output_type": "stream",
     "text": [
      "Tiempo de ejecución: 0.004586935043334961 segundos\n"
     ]
    },
    {
     "data": {
      "text/html": [
       "<div><style>\n",
       ".dataframe > thead > tr,\n",
       ".dataframe > tbody > tr {\n",
       "  text-align: right;\n",
       "  white-space: pre-wrap;\n",
       "}\n",
       "</style>\n",
       "<small>shape: (1_000_000, 1)</small><table border=\"1\" class=\"dataframe\"><thead><tr><th>w</th></tr><tr><td>i32</td></tr></thead><tbody><tr><td>1</td></tr><tr><td>1</td></tr><tr><td>1</td></tr><tr><td>1</td></tr><tr><td>1</td></tr><tr><td>&hellip;</td></tr><tr><td>1</td></tr><tr><td>1</td></tr><tr><td>1</td></tr><tr><td>1</td></tr><tr><td>1</td></tr></tbody></table></div>"
      ],
      "text/plain": [
       "shape: (1_000_000, 1)\n",
       "┌─────┐\n",
       "│ w   │\n",
       "│ --- │\n",
       "│ i32 │\n",
       "╞═════╡\n",
       "│ 1   │\n",
       "│ 1   │\n",
       "│ 1   │\n",
       "│ 1   │\n",
       "│ 1   │\n",
       "│ …   │\n",
       "│ 1   │\n",
       "│ 1   │\n",
       "│ 1   │\n",
       "│ 1   │\n",
       "│ 1   │\n",
       "└─────┘"
      ]
     },
     "execution_count": 11,
     "metadata": {},
     "output_type": "execute_result"
    }
   ],
   "source": [
    "total_metrics = total_metrics.with_columns(pl.Series(name=\"Add_Col\", values= get_metrics(\"df.with_columns(w = pl.lit(1))\",NUM_REP)))\n",
    "df=df.with_columns(w = pl.lit(1))\n",
    "df.select(pl.col(\"w\"))"
   ]
  },
  {
   "cell_type": "markdown",
   "id": "8f9a1a68-1c48-47d0-9879-a271416c45e3",
   "metadata": {},
   "source": [
    "## Sumando dos columnas"
   ]
  },
  {
   "cell_type": "code",
   "execution_count": 12,
   "id": "9b7a45e1-3c29-4387-865f-e8de8f3d22ab",
   "metadata": {
    "scrolled": true
   },
   "outputs": [
    {
     "name": "stdout",
     "output_type": "stream",
     "text": [
      "Tiempo de ejecución: 0.10222721099853516 segundos\n"
     ]
    },
    {
     "data": {
      "text/html": [
       "<div><style>\n",
       ".dataframe > thead > tr,\n",
       ".dataframe > tbody > tr {\n",
       "  text-align: right;\n",
       "  white-space: pre-wrap;\n",
       "}\n",
       "</style>\n",
       "<small>shape: (1_000_000, 31)</small><table border=\"1\" class=\"dataframe\"><thead><tr><th></th><th>Unnamed: 0</th><th>title</th><th>rank</th><th>date</th><th>artist</th><th>url</th><th>region</th><th>chart</th><th>trend</th><th>streams</th><th>track_id</th><th>album</th><th>popularity</th><th>duration_ms</th><th>explicit</th><th>release_date</th><th>available_markets</th><th>af_danceability</th><th>af_energy</th><th>af_key</th><th>af_loudness</th><th>af_mode</th><th>af_speechiness</th><th>af_acousticness</th><th>af_instrumentalness</th><th>af_liveness</th><th>af_valence</th><th>af_tempo</th><th>af_time_signature</th><th>w</th></tr><tr><td>i64</td><td>i64</td><td>str</td><td>i64</td><td>date</td><td>str</td><td>str</td><td>str</td><td>str</td><td>str</td><td>f64</td><td>str</td><td>str</td><td>f64</td><td>f64</td><td>bool</td><td>str</td><td>str</td><td>f64</td><td>f64</td><td>f64</td><td>f64</td><td>f64</td><td>f64</td><td>f64</td><td>f64</td><td>f64</td><td>f64</td><td>f64</td><td>f64</td><td>i64</td></tr></thead><tbody><tr><td>0</td><td>0</td><td>&quot;Chantaje (feat. Maluma)&quot;</td><td>1</td><td>2017-01-01</td><td>&quot;Shakira&quot;</td><td>&quot;https://open.spotify.com/track…</td><td>&quot;Argentina&quot;</td><td>&quot;top200&quot;</td><td>&quot;SAME_POSITION&quot;</td><td>253019.0</td><td>&quot;6mICuAdrwEjh6Y6lroV2Kg&quot;</td><td>&quot;El Dorado&quot;</td><td>78.0</td><td>195840.0</td><td>false</td><td>&quot;2017-05-26&quot;</td><td>&quot;[&#x27;AR&#x27;, &#x27;AU&#x27;, &#x27;AT&#x27;, &#x27;BE&#x27;, &#x27;BO&#x27;,…</td><td>0.852</td><td>0.773</td><td>8.0</td><td>-2.921</td><td>0.0</td><td>0.0776</td><td>0.187</td><td>0.0000305</td><td>0.159</td><td>0.907</td><td>102.034</td><td>4.0</td><td>2</td></tr><tr><td>1</td><td>1</td><td>&quot;Vente Pa&#x27; Ca (feat. Maluma)&quot;</td><td>2</td><td>2017-01-01</td><td>&quot;Ricky Martin&quot;</td><td>&quot;https://open.spotify.com/track…</td><td>&quot;Argentina&quot;</td><td>&quot;top200&quot;</td><td>&quot;MOVE_UP&quot;</td><td>223988.0</td><td>&quot;7DM4BPaS7uofFul3ywMe46&quot;</td><td>&quot;Vente Pa&#x27; Ca (feat. Maluma)&quot;</td><td>72.0</td><td>259195.0</td><td>false</td><td>&quot;2016-09-22&quot;</td><td>&quot;[&#x27;AR&#x27;, &#x27;AU&#x27;, &#x27;AT&#x27;, &#x27;BE&#x27;, &#x27;BO&#x27;,…</td><td>0.663</td><td>0.92</td><td>11.0</td><td>-4.07</td><td>0.0</td><td>0.226</td><td>0.00431</td><td>0.0000169</td><td>0.101</td><td>0.533</td><td>99.935</td><td>4.0</td><td>3</td></tr><tr><td>2</td><td>2</td><td>&quot;Reggaetón Lento (Bailemos)&quot;</td><td>3</td><td>2017-01-01</td><td>&quot;CNCO&quot;</td><td>&quot;https://open.spotify.com/track…</td><td>&quot;Argentina&quot;</td><td>&quot;top200&quot;</td><td>&quot;MOVE_DOWN&quot;</td><td>210943.0</td><td>&quot;3AEZUABDXNtecAOSC1qTfo&quot;</td><td>&quot;Primera Cita&quot;</td><td>73.0</td><td>222560.0</td><td>false</td><td>&quot;2016-08-26&quot;</td><td>&quot;[&#x27;AR&#x27;, &#x27;AU&#x27;, &#x27;AT&#x27;, &#x27;BE&#x27;, &#x27;BO&#x27;,…</td><td>0.761</td><td>0.838</td><td>4.0</td><td>-3.073</td><td>0.0</td><td>0.0502</td><td>0.4</td><td>0.0</td><td>0.176</td><td>0.71</td><td>93.974</td><td>4.0</td><td>4</td></tr><tr><td>3</td><td>3</td><td>&quot;Safari&quot;</td><td>4</td><td>2017-01-01</td><td>&quot;J Balvin, Pharrell Williams, B…</td><td>&quot;https://open.spotify.com/track…</td><td>&quot;Argentina&quot;</td><td>&quot;top200&quot;</td><td>&quot;SAME_POSITION&quot;</td><td>173865.0</td><td>&quot;6rQSrBHf7HlZjtcMZ4S4bO&quot;</td><td>&quot;Energía&quot;</td><td>0.0</td><td>205600.0</td><td>false</td><td>&quot;2016-06-24&quot;</td><td>&quot;[]&quot;</td><td>0.508</td><td>0.687</td><td>0.0</td><td>-4.361</td><td>1.0</td><td>0.326</td><td>0.551</td><td>0.000003</td><td>0.126</td><td>0.555</td><td>180.044</td><td>4.0</td><td>5</td></tr><tr><td>4</td><td>4</td><td>&quot;Shaky Shaky&quot;</td><td>5</td><td>2017-01-01</td><td>&quot;Daddy Yankee&quot;</td><td>&quot;https://open.spotify.com/track…</td><td>&quot;Argentina&quot;</td><td>&quot;top200&quot;</td><td>&quot;MOVE_UP&quot;</td><td>153956.0</td><td>&quot;58IL315gMSTD37DOZPJ2hf&quot;</td><td>&quot;Shaky Shaky&quot;</td><td>0.0</td><td>234320.0</td><td>false</td><td>&quot;2016-04-08&quot;</td><td>&quot;[]&quot;</td><td>0.899</td><td>0.626</td><td>6.0</td><td>-4.228</td><td>0.0</td><td>0.292</td><td>0.076</td><td>0.0</td><td>0.0631</td><td>0.873</td><td>88.007</td><td>4.0</td><td>6</td></tr><tr><td>&hellip;</td><td>&hellip;</td><td>&hellip;</td><td>&hellip;</td><td>&hellip;</td><td>&hellip;</td><td>&hellip;</td><td>&hellip;</td><td>&hellip;</td><td>&hellip;</td><td>&hellip;</td><td>&hellip;</td><td>&hellip;</td><td>&hellip;</td><td>&hellip;</td><td>&hellip;</td><td>&hellip;</td><td>&hellip;</td><td>&hellip;</td><td>&hellip;</td><td>&hellip;</td><td>&hellip;</td><td>&hellip;</td><td>&hellip;</td><td>&hellip;</td><td>&hellip;</td><td>&hellip;</td><td>&hellip;</td><td>&hellip;</td><td>&hellip;</td><td>&hellip;</td></tr><tr><td>999995</td><td>999995</td><td>&quot;Me Dediqué a Perderte&quot;</td><td>146</td><td>2018-02-13</td><td>&quot;Alejandro Fernández&quot;</td><td>&quot;https://open.spotify.com/track…</td><td>&quot;Mexico&quot;</td><td>&quot;top200&quot;</td><td>&quot;MOVE_DOWN&quot;</td><td>54206.0</td><td>&quot;4NUt1fcnO9aQAELBgXq3Kr&quot;</td><td>&quot;A Corazón Abierto&quot;</td><td>76.0</td><td>231773.0</td><td>false</td><td>&quot;2004-09-01&quot;</td><td>&quot;[&#x27;AR&#x27;, &#x27;AU&#x27;, &#x27;AT&#x27;, &#x27;BE&#x27;, &#x27;BO&#x27;,…</td><td>0.642</td><td>0.442</td><td>8.0</td><td>-9.115</td><td>1.0</td><td>0.074</td><td>0.491</td><td>0.000002</td><td>0.102</td><td>0.465</td><td>148.01</td><td>4.0</td><td>147</td></tr><tr><td>999996</td><td>999996</td><td>&quot;Something Just Like This&quot;</td><td>147</td><td>2018-02-13</td><td>&quot;The Chainsmokers, Coldplay&quot;</td><td>&quot;https://open.spotify.com/track…</td><td>&quot;Mexico&quot;</td><td>&quot;top200&quot;</td><td>&quot;MOVE_DOWN&quot;</td><td>54122.0</td><td>&quot;6RUKPb4LETWmmr3iAEQktW&quot;</td><td>&quot;Memories...Do Not Open&quot;</td><td>88.0</td><td>247160.0</td><td>false</td><td>&quot;2017-04-07&quot;</td><td>&quot;[&#x27;AR&#x27;, &#x27;AU&#x27;, &#x27;AT&#x27;, &#x27;BE&#x27;, &#x27;BO&#x27;,…</td><td>0.617</td><td>0.635</td><td>11.0</td><td>-6.769</td><td>0.0</td><td>0.0317</td><td>0.0498</td><td>0.0000144</td><td>0.164</td><td>0.446</td><td>103.019</td><td>4.0</td><td>148</td></tr><tr><td>999997</td><td>999997</td><td>&quot;Feel It Still&quot;</td><td>148</td><td>2018-02-13</td><td>&quot;Portugal. The Man&quot;</td><td>&quot;https://open.spotify.com/track…</td><td>&quot;Mexico&quot;</td><td>&quot;top200&quot;</td><td>&quot;MOVE_UP&quot;</td><td>54092.0</td><td>&quot;6QgjcU0zLnzq5OrUoSZ3OK&quot;</td><td>&quot;Woodstock&quot;</td><td>81.0</td><td>163253.0</td><td>false</td><td>&quot;2017-06-16&quot;</td><td>&quot;[&#x27;AR&#x27;, &#x27;AU&#x27;, &#x27;AT&#x27;, &#x27;BE&#x27;, &#x27;BO&#x27;,…</td><td>0.801</td><td>0.795</td><td>1.0</td><td>-5.115</td><td>0.0</td><td>0.0504</td><td>0.0417</td><td>0.000113</td><td>0.0717</td><td>0.754</td><td>79.028</td><td>4.0</td><td>149</td></tr><tr><td>999998</td><td>999998</td><td>&quot;Ahora Dice - Real Hasta La Mue…</td><td>149</td><td>2018-02-13</td><td>&quot;Chris Jedi, J Balvin, Ozuna, C…</td><td>&quot;https://open.spotify.com/track…</td><td>&quot;Mexico&quot;</td><td>&quot;top200&quot;</td><td>&quot;NEW_ENTRY&quot;</td><td>53996.0</td><td>&quot;1fs9kTASuC9RJ9say6KX2K&quot;</td><td>&quot;Ahora Dice (Real Hasta La Muer…</td><td>0.0</td><td>275826.0</td><td>true</td><td>&quot;2018-02-12&quot;</td><td>&quot;[]&quot;</td><td>0.753</td><td>0.674</td><td>1.0</td><td>-5.735</td><td>1.0</td><td>0.219</td><td>0.27</td><td>0.0</td><td>0.116</td><td>0.602</td><td>143.92</td><td>4.0</td><td>150</td></tr><tr><td>999999</td><td>999999</td><td>&quot;Ay Mi Dios (feat. Pitbull, Yan…</td><td>150</td><td>2018-02-13</td><td>&quot;IAmChino, El Chacal&quot;</td><td>&quot;https://open.spotify.com/track…</td><td>&quot;Mexico&quot;</td><td>&quot;top200&quot;</td><td>&quot;MOVE_UP&quot;</td><td>53928.0</td><td>&quot;6stYbAJgTszHAHZMPxWWCY&quot;</td><td>&quot;Ay Mi Dios (feat. Pitbull, Yan…</td><td>0.0</td><td>252003.0</td><td>false</td><td>&quot;2016-02-22&quot;</td><td>&quot;[]&quot;</td><td>0.761</td><td>0.829</td><td>0.0</td><td>-3.203</td><td>0.0</td><td>0.0681</td><td>0.167</td><td>0.0</td><td>0.189</td><td>0.813</td><td>92.033</td><td>4.0</td><td>151</td></tr></tbody></table></div>"
      ],
      "text/plain": [
       "shape: (1_000_000, 31)\n",
       "┌────────┬────────────┬─────────────────┬──────┬───┬────────────┬──────────┬─────────────────┬─────┐\n",
       "│        ┆ Unnamed: 0 ┆ title           ┆ rank ┆ … ┆ af_valence ┆ af_tempo ┆ af_time_signatu ┆ w   │\n",
       "│ ---    ┆ ---        ┆ ---             ┆ ---  ┆   ┆ ---        ┆ ---      ┆ re              ┆ --- │\n",
       "│ i64    ┆ i64        ┆ str             ┆ i64  ┆   ┆ f64        ┆ f64      ┆ ---             ┆ i64 │\n",
       "│        ┆            ┆                 ┆      ┆   ┆            ┆          ┆ f64             ┆     │\n",
       "╞════════╪════════════╪═════════════════╪══════╪═══╪════════════╪══════════╪═════════════════╪═════╡\n",
       "│ 0      ┆ 0          ┆ Chantaje (feat. ┆ 1    ┆ … ┆ 0.907      ┆ 102.034  ┆ 4.0             ┆ 2   │\n",
       "│        ┆            ┆ Maluma)         ┆      ┆   ┆            ┆          ┆                 ┆     │\n",
       "│ 1      ┆ 1          ┆ Vente Pa' Ca    ┆ 2    ┆ … ┆ 0.533      ┆ 99.935   ┆ 4.0             ┆ 3   │\n",
       "│        ┆            ┆ (feat. Maluma)  ┆      ┆   ┆            ┆          ┆                 ┆     │\n",
       "│ 2      ┆ 2          ┆ Reggaetón Lento ┆ 3    ┆ … ┆ 0.71       ┆ 93.974   ┆ 4.0             ┆ 4   │\n",
       "│        ┆            ┆ (Bailemos)      ┆      ┆   ┆            ┆          ┆                 ┆     │\n",
       "│ 3      ┆ 3          ┆ Safari          ┆ 4    ┆ … ┆ 0.555      ┆ 180.044  ┆ 4.0             ┆ 5   │\n",
       "│ 4      ┆ 4          ┆ Shaky Shaky     ┆ 5    ┆ … ┆ 0.873      ┆ 88.007   ┆ 4.0             ┆ 6   │\n",
       "│ …      ┆ …          ┆ …               ┆ …    ┆ … ┆ …          ┆ …        ┆ …               ┆ …   │\n",
       "│ 999995 ┆ 999995     ┆ Me Dediqué a    ┆ 146  ┆ … ┆ 0.465      ┆ 148.01   ┆ 4.0             ┆ 147 │\n",
       "│        ┆            ┆ Perderte        ┆      ┆   ┆            ┆          ┆                 ┆     │\n",
       "│ 999996 ┆ 999996     ┆ Something Just  ┆ 147  ┆ … ┆ 0.446      ┆ 103.019  ┆ 4.0             ┆ 148 │\n",
       "│        ┆            ┆ Like This       ┆      ┆   ┆            ┆          ┆                 ┆     │\n",
       "│ 999997 ┆ 999997     ┆ Feel It Still   ┆ 148  ┆ … ┆ 0.754      ┆ 79.028   ┆ 4.0             ┆ 149 │\n",
       "│ 999998 ┆ 999998     ┆ Ahora Dice -    ┆ 149  ┆ … ┆ 0.602      ┆ 143.92   ┆ 4.0             ┆ 150 │\n",
       "│        ┆            ┆ Real Hasta La   ┆      ┆   ┆            ┆          ┆                 ┆     │\n",
       "│        ┆            ┆ Mue…            ┆      ┆   ┆            ┆          ┆                 ┆     │\n",
       "│ 999999 ┆ 999999     ┆ Ay Mi Dios      ┆ 150  ┆ … ┆ 0.813      ┆ 92.033   ┆ 4.0             ┆ 151 │\n",
       "│        ┆            ┆ (feat. Pitbull, ┆      ┆   ┆            ┆          ┆                 ┆     │\n",
       "│        ┆            ┆ Yan…            ┆      ┆   ┆            ┆          ┆                 ┆     │\n",
       "└────────┴────────────┴─────────────────┴──────┴───┴────────────┴──────────┴─────────────────┴─────┘"
      ]
     },
     "execution_count": 12,
     "metadata": {},
     "output_type": "execute_result"
    }
   ],
   "source": [
    "total_metrics = total_metrics.with_columns(pl.Series(name=\"Add_Cols\", values= get_metrics(\"df.with_columns(w = pl.col('w') + pl.col('rank'))\",NUM_REP)))\n",
    "df = df.with_columns(w = pl.col('w') + pl.col('rank'))\n",
    "df"
   ]
  },
  {
   "cell_type": "markdown",
   "id": "bf68d1f8-9421-4225-8581-490a1fc1b938",
   "metadata": {},
   "source": [
    "## Aplicando la potencia"
   ]
  },
  {
   "cell_type": "code",
   "execution_count": 13,
   "id": "e3f9344d-53d6-4e88-aedb-5f57340dd1c3",
   "metadata": {
    "scrolled": true
   },
   "outputs": [
    {
     "name": "stdout",
     "output_type": "stream",
     "text": [
      "Tiempo de ejecución: 0.126481294631958 segundos\n"
     ]
    },
    {
     "data": {
      "text/html": [
       "<div><style>\n",
       ".dataframe > thead > tr,\n",
       ".dataframe > tbody > tr {\n",
       "  text-align: right;\n",
       "  white-space: pre-wrap;\n",
       "}\n",
       "</style>\n",
       "<small>shape: (1_000_000, 31)</small><table border=\"1\" class=\"dataframe\"><thead><tr><th></th><th>Unnamed: 0</th><th>title</th><th>rank</th><th>date</th><th>artist</th><th>url</th><th>region</th><th>chart</th><th>trend</th><th>streams</th><th>track_id</th><th>album</th><th>popularity</th><th>duration_ms</th><th>explicit</th><th>release_date</th><th>available_markets</th><th>af_danceability</th><th>af_energy</th><th>af_key</th><th>af_loudness</th><th>af_mode</th><th>af_speechiness</th><th>af_acousticness</th><th>af_instrumentalness</th><th>af_liveness</th><th>af_valence</th><th>af_tempo</th><th>af_time_signature</th><th>w</th></tr><tr><td>i64</td><td>i64</td><td>str</td><td>i64</td><td>date</td><td>str</td><td>str</td><td>str</td><td>str</td><td>str</td><td>f64</td><td>str</td><td>str</td><td>f64</td><td>f64</td><td>bool</td><td>str</td><td>str</td><td>f64</td><td>f64</td><td>f64</td><td>f64</td><td>f64</td><td>f64</td><td>f64</td><td>f64</td><td>f64</td><td>f64</td><td>f64</td><td>f64</td><td>i64</td></tr></thead><tbody><tr><td>0</td><td>0</td><td>&quot;Chantaje (feat. Maluma)&quot;</td><td>1</td><td>2017-01-01</td><td>&quot;Shakira&quot;</td><td>&quot;https://open.spotify.com/track…</td><td>&quot;Argentina&quot;</td><td>&quot;top200&quot;</td><td>&quot;SAME_POSITION&quot;</td><td>253019.0</td><td>&quot;6mICuAdrwEjh6Y6lroV2Kg&quot;</td><td>&quot;El Dorado&quot;</td><td>78.0</td><td>195840.0</td><td>false</td><td>&quot;2017-05-26&quot;</td><td>&quot;[&#x27;AR&#x27;, &#x27;AU&#x27;, &#x27;AT&#x27;, &#x27;BE&#x27;, &#x27;BO&#x27;,…</td><td>0.852</td><td>0.773</td><td>8.0</td><td>-2.921</td><td>0.0</td><td>0.070013</td><td>0.187</td><td>0.0000305</td><td>0.159</td><td>0.907</td><td>102.034</td><td>4.0</td><td>2</td></tr><tr><td>1</td><td>1</td><td>&quot;Vente Pa&#x27; Ca (feat. Maluma)&quot;</td><td>2</td><td>2017-01-01</td><td>&quot;Ricky Martin&quot;</td><td>&quot;https://open.spotify.com/track…</td><td>&quot;Argentina&quot;</td><td>&quot;top200&quot;</td><td>&quot;MOVE_UP&quot;</td><td>223988.0</td><td>&quot;7DM4BPaS7uofFul3ywMe46&quot;</td><td>&quot;Vente Pa&#x27; Ca (feat. Maluma)&quot;</td><td>72.0</td><td>259195.0</td><td>false</td><td>&quot;2016-09-22&quot;</td><td>&quot;[&#x27;AR&#x27;, &#x27;AU&#x27;, &#x27;AT&#x27;, &#x27;BE&#x27;, &#x27;BO&#x27;,…</td><td>0.663</td><td>0.92</td><td>11.0</td><td>-4.07</td><td>0.0</td><td>0.053043</td><td>0.00431</td><td>0.0000169</td><td>0.101</td><td>0.533</td><td>99.935</td><td>4.0</td><td>3</td></tr><tr><td>2</td><td>2</td><td>&quot;Reggaetón Lento (Bailemos)&quot;</td><td>3</td><td>2017-01-01</td><td>&quot;CNCO&quot;</td><td>&quot;https://open.spotify.com/track…</td><td>&quot;Argentina&quot;</td><td>&quot;top200&quot;</td><td>&quot;MOVE_DOWN&quot;</td><td>210943.0</td><td>&quot;3AEZUABDXNtecAOSC1qTfo&quot;</td><td>&quot;Primera Cita&quot;</td><td>73.0</td><td>222560.0</td><td>false</td><td>&quot;2016-08-26&quot;</td><td>&quot;[&#x27;AR&#x27;, &#x27;AU&#x27;, &#x27;AT&#x27;, &#x27;BE&#x27;, &#x27;BO&#x27;,…</td><td>0.761</td><td>0.838</td><td>4.0</td><td>-3.073</td><td>0.0</td><td>0.20268</td><td>0.4</td><td>0.0</td><td>0.176</td><td>0.71</td><td>93.974</td><td>4.0</td><td>4</td></tr><tr><td>3</td><td>3</td><td>&quot;Safari&quot;</td><td>4</td><td>2017-01-01</td><td>&quot;J Balvin, Pharrell Williams, B…</td><td>&quot;https://open.spotify.com/track…</td><td>&quot;Argentina&quot;</td><td>&quot;top200&quot;</td><td>&quot;SAME_POSITION&quot;</td><td>173865.0</td><td>&quot;6rQSrBHf7HlZjtcMZ4S4bO&quot;</td><td>&quot;Energía&quot;</td><td>0.0</td><td>205600.0</td><td>false</td><td>&quot;2016-06-24&quot;</td><td>&quot;[]&quot;</td><td>0.508</td><td>0.687</td><td>0.0</td><td>-4.361</td><td>1.0</td><td>0.769129</td><td>0.551</td><td>0.000003</td><td>0.126</td><td>0.555</td><td>180.044</td><td>4.0</td><td>5</td></tr><tr><td>4</td><td>4</td><td>&quot;Shaky Shaky&quot;</td><td>5</td><td>2017-01-01</td><td>&quot;Daddy Yankee&quot;</td><td>&quot;https://open.spotify.com/track…</td><td>&quot;Argentina&quot;</td><td>&quot;top200&quot;</td><td>&quot;MOVE_UP&quot;</td><td>153956.0</td><td>&quot;58IL315gMSTD37DOZPJ2hf&quot;</td><td>&quot;Shaky Shaky&quot;</td><td>0.0</td><td>234320.0</td><td>false</td><td>&quot;2016-04-08&quot;</td><td>&quot;[]&quot;</td><td>0.899</td><td>0.626</td><td>6.0</td><td>-4.228</td><td>0.0</td><td>0.135424</td><td>0.076</td><td>0.0</td><td>0.0631</td><td>0.873</td><td>88.007</td><td>4.0</td><td>6</td></tr><tr><td>&hellip;</td><td>&hellip;</td><td>&hellip;</td><td>&hellip;</td><td>&hellip;</td><td>&hellip;</td><td>&hellip;</td><td>&hellip;</td><td>&hellip;</td><td>&hellip;</td><td>&hellip;</td><td>&hellip;</td><td>&hellip;</td><td>&hellip;</td><td>&hellip;</td><td>&hellip;</td><td>&hellip;</td><td>&hellip;</td><td>&hellip;</td><td>&hellip;</td><td>&hellip;</td><td>&hellip;</td><td>&hellip;</td><td>&hellip;</td><td>&hellip;</td><td>&hellip;</td><td>&hellip;</td><td>&hellip;</td><td>&hellip;</td><td>&hellip;</td><td>&hellip;</td></tr><tr><td>999995</td><td>999995</td><td>&quot;Me Dediqué a Perderte&quot;</td><td>146</td><td>2018-02-13</td><td>&quot;Alejandro Fernández&quot;</td><td>&quot;https://open.spotify.com/track…</td><td>&quot;Mexico&quot;</td><td>&quot;top200&quot;</td><td>&quot;MOVE_DOWN&quot;</td><td>54206.0</td><td>&quot;4NUt1fcnO9aQAELBgXq3Kr&quot;</td><td>&quot;A Corazón Abierto&quot;</td><td>76.0</td><td>231773.0</td><td>false</td><td>&quot;2004-09-01&quot;</td><td>&quot;[&#x27;AR&#x27;, &#x27;AU&#x27;, &#x27;AT&#x27;, &#x27;BE&#x27;, &#x27;BO&#x27;,…</td><td>0.642</td><td>0.442</td><td>8.0</td><td>-9.115</td><td>1.0</td><td>0.319225</td><td>0.491</td><td>0.000002</td><td>0.102</td><td>0.465</td><td>148.01</td><td>4.0</td><td>147</td></tr><tr><td>999996</td><td>999996</td><td>&quot;Something Just Like This&quot;</td><td>147</td><td>2018-02-13</td><td>&quot;The Chainsmokers, Coldplay&quot;</td><td>&quot;https://open.spotify.com/track…</td><td>&quot;Mexico&quot;</td><td>&quot;top200&quot;</td><td>&quot;MOVE_DOWN&quot;</td><td>54122.0</td><td>&quot;6RUKPb4LETWmmr3iAEQktW&quot;</td><td>&quot;Memories...Do Not Open&quot;</td><td>88.0</td><td>247160.0</td><td>false</td><td>&quot;2017-04-07&quot;</td><td>&quot;[&#x27;AR&#x27;, &#x27;AU&#x27;, &#x27;AT&#x27;, &#x27;BE&#x27;, &#x27;BO&#x27;,…</td><td>0.617</td><td>0.635</td><td>11.0</td><td>-6.769</td><td>0.0</td><td>0.006642</td><td>0.0498</td><td>0.0000144</td><td>0.164</td><td>0.446</td><td>103.019</td><td>4.0</td><td>148</td></tr><tr><td>999997</td><td>999997</td><td>&quot;Feel It Still&quot;</td><td>148</td><td>2018-02-13</td><td>&quot;Portugal. The Man&quot;</td><td>&quot;https://open.spotify.com/track…</td><td>&quot;Mexico&quot;</td><td>&quot;top200&quot;</td><td>&quot;MOVE_UP&quot;</td><td>54092.0</td><td>&quot;6QgjcU0zLnzq5OrUoSZ3OK&quot;</td><td>&quot;Woodstock&quot;</td><td>81.0</td><td>163253.0</td><td>false</td><td>&quot;2017-06-16&quot;</td><td>&quot;[&#x27;AR&#x27;, &#x27;AU&#x27;, &#x27;AT&#x27;, &#x27;BE&#x27;, &#x27;BO&#x27;,…</td><td>0.801</td><td>0.795</td><td>1.0</td><td>-5.115</td><td>0.0</td><td>0.008482</td><td>0.0417</td><td>0.000113</td><td>0.0717</td><td>0.754</td><td>79.028</td><td>4.0</td><td>149</td></tr><tr><td>999998</td><td>999998</td><td>&quot;Ahora Dice - Real Hasta La Mue…</td><td>149</td><td>2018-02-13</td><td>&quot;Chris Jedi, J Balvin, Ozuna, C…</td><td>&quot;https://open.spotify.com/track…</td><td>&quot;Mexico&quot;</td><td>&quot;top200&quot;</td><td>&quot;NEW_ENTRY&quot;</td><td>53996.0</td><td>&quot;1fs9kTASuC9RJ9say6KX2K&quot;</td><td>&quot;Ahora Dice (Real Hasta La Muer…</td><td>0.0</td><td>275826.0</td><td>true</td><td>&quot;2018-02-12&quot;</td><td>&quot;[]&quot;</td><td>0.753</td><td>0.674</td><td>1.0</td><td>-5.735</td><td>1.0</td><td>0.239121</td><td>0.27</td><td>0.0</td><td>0.116</td><td>0.602</td><td>143.92</td><td>4.0</td><td>150</td></tr><tr><td>999999</td><td>999999</td><td>&quot;Ay Mi Dios (feat. Pitbull, Yan…</td><td>150</td><td>2018-02-13</td><td>&quot;IAmChino, El Chacal&quot;</td><td>&quot;https://open.spotify.com/track…</td><td>&quot;Mexico&quot;</td><td>&quot;top200&quot;</td><td>&quot;MOVE_UP&quot;</td><td>53928.0</td><td>&quot;6stYbAJgTszHAHZMPxWWCY&quot;</td><td>&quot;Ay Mi Dios (feat. Pitbull, Yan…</td><td>0.0</td><td>252003.0</td><td>false</td><td>&quot;2016-02-22&quot;</td><td>&quot;[]&quot;</td><td>0.761</td><td>0.829</td><td>0.0</td><td>-3.203</td><td>0.0</td><td>0.055272</td><td>0.167</td><td>0.0</td><td>0.189</td><td>0.813</td><td>92.033</td><td>4.0</td><td>151</td></tr></tbody></table></div>"
      ],
      "text/plain": [
       "shape: (1_000_000, 31)\n",
       "┌────────┬────────────┬─────────────────┬──────┬───┬────────────┬──────────┬─────────────────┬─────┐\n",
       "│        ┆ Unnamed: 0 ┆ title           ┆ rank ┆ … ┆ af_valence ┆ af_tempo ┆ af_time_signatu ┆ w   │\n",
       "│ ---    ┆ ---        ┆ ---             ┆ ---  ┆   ┆ ---        ┆ ---      ┆ re              ┆ --- │\n",
       "│ i64    ┆ i64        ┆ str             ┆ i64  ┆   ┆ f64        ┆ f64      ┆ ---             ┆ i64 │\n",
       "│        ┆            ┆                 ┆      ┆   ┆            ┆          ┆ f64             ┆     │\n",
       "╞════════╪════════════╪═════════════════╪══════╪═══╪════════════╪══════════╪═════════════════╪═════╡\n",
       "│ 0      ┆ 0          ┆ Chantaje (feat. ┆ 1    ┆ … ┆ 0.907      ┆ 102.034  ┆ 4.0             ┆ 2   │\n",
       "│        ┆            ┆ Maluma)         ┆      ┆   ┆            ┆          ┆                 ┆     │\n",
       "│ 1      ┆ 1          ┆ Vente Pa' Ca    ┆ 2    ┆ … ┆ 0.533      ┆ 99.935   ┆ 4.0             ┆ 3   │\n",
       "│        ┆            ┆ (feat. Maluma)  ┆      ┆   ┆            ┆          ┆                 ┆     │\n",
       "│ 2      ┆ 2          ┆ Reggaetón Lento ┆ 3    ┆ … ┆ 0.71       ┆ 93.974   ┆ 4.0             ┆ 4   │\n",
       "│        ┆            ┆ (Bailemos)      ┆      ┆   ┆            ┆          ┆                 ┆     │\n",
       "│ 3      ┆ 3          ┆ Safari          ┆ 4    ┆ … ┆ 0.555      ┆ 180.044  ┆ 4.0             ┆ 5   │\n",
       "│ 4      ┆ 4          ┆ Shaky Shaky     ┆ 5    ┆ … ┆ 0.873      ┆ 88.007   ┆ 4.0             ┆ 6   │\n",
       "│ …      ┆ …          ┆ …               ┆ …    ┆ … ┆ …          ┆ …        ┆ …               ┆ …   │\n",
       "│ 999995 ┆ 999995     ┆ Me Dediqué a    ┆ 146  ┆ … ┆ 0.465      ┆ 148.01   ┆ 4.0             ┆ 147 │\n",
       "│        ┆            ┆ Perderte        ┆      ┆   ┆            ┆          ┆                 ┆     │\n",
       "│ 999996 ┆ 999996     ┆ Something Just  ┆ 147  ┆ … ┆ 0.446      ┆ 103.019  ┆ 4.0             ┆ 148 │\n",
       "│        ┆            ┆ Like This       ┆      ┆   ┆            ┆          ┆                 ┆     │\n",
       "│ 999997 ┆ 999997     ┆ Feel It Still   ┆ 148  ┆ … ┆ 0.754      ┆ 79.028   ┆ 4.0             ┆ 149 │\n",
       "│ 999998 ┆ 999998     ┆ Ahora Dice -    ┆ 149  ┆ … ┆ 0.602      ┆ 143.92   ┆ 4.0             ┆ 150 │\n",
       "│        ┆            ┆ Real Hasta La   ┆      ┆   ┆            ┆          ┆                 ┆     │\n",
       "│        ┆            ┆ Mue…            ┆      ┆   ┆            ┆          ┆                 ┆     │\n",
       "│ 999999 ┆ 999999     ┆ Ay Mi Dios      ┆ 150  ┆ … ┆ 0.813      ┆ 92.033   ┆ 4.0             ┆ 151 │\n",
       "│        ┆            ┆ (feat. Pitbull, ┆      ┆   ┆            ┆          ┆                 ┆     │\n",
       "│        ┆            ┆ Yan…            ┆      ┆   ┆            ┆          ┆                 ┆     │\n",
       "└────────┴────────────┴─────────────────┴──────┴───┴────────────┴──────────┴─────────────────┴─────┘"
      ]
     },
     "execution_count": 13,
     "metadata": {},
     "output_type": "execute_result"
    }
   ],
   "source": [
    "total_metrics = total_metrics.with_columns(pl.Series(name=\"Pow\", values= get_metrics(\"df.with_columns((pl.col('af_speechiness')+ pl.col('af_acousticness')).pow(2))\",NUM_REP)))\n",
    "df.with_columns((pl.col('af_speechiness')+ pl.col('af_acousticness')).pow(2))"
   ]
  },
  {
   "cell_type": "markdown",
   "id": "a7bc9995-33d8-4249-96bd-2b74df69182a",
   "metadata": {},
   "source": [
    "## Ordenando de acuerdo a una columna"
   ]
  },
  {
   "cell_type": "code",
   "execution_count": 14,
   "id": "abf434d5-0c09-43ef-95d5-02220a39112f",
   "metadata": {},
   "outputs": [
    {
     "name": "stdout",
     "output_type": "stream",
     "text": [
      "Tiempo de ejecución: 2.7250657081604004 segundos\n"
     ]
    },
    {
     "data": {
      "text/html": [
       "<div><style>\n",
       ".dataframe > thead > tr,\n",
       ".dataframe > tbody > tr {\n",
       "  text-align: right;\n",
       "  white-space: pre-wrap;\n",
       "}\n",
       "</style>\n",
       "<small>shape: (1_000_000, 31)</small><table border=\"1\" class=\"dataframe\"><thead><tr><th></th><th>Unnamed: 0</th><th>title</th><th>rank</th><th>date</th><th>artist</th><th>url</th><th>region</th><th>chart</th><th>trend</th><th>streams</th><th>track_id</th><th>album</th><th>popularity</th><th>duration_ms</th><th>explicit</th><th>release_date</th><th>available_markets</th><th>af_danceability</th><th>af_energy</th><th>af_key</th><th>af_loudness</th><th>af_mode</th><th>af_speechiness</th><th>af_acousticness</th><th>af_instrumentalness</th><th>af_liveness</th><th>af_valence</th><th>af_tempo</th><th>af_time_signature</th><th>w</th></tr><tr><td>i64</td><td>i64</td><td>str</td><td>i64</td><td>date</td><td>str</td><td>str</td><td>str</td><td>str</td><td>str</td><td>f64</td><td>str</td><td>str</td><td>f64</td><td>f64</td><td>bool</td><td>str</td><td>str</td><td>f64</td><td>f64</td><td>f64</td><td>f64</td><td>f64</td><td>f64</td><td>f64</td><td>f64</td><td>f64</td><td>f64</td><td>f64</td><td>f64</td><td>i64</td></tr></thead><tbody><tr><td>0</td><td>0</td><td>&quot;Chantaje (feat. Maluma)&quot;</td><td>1</td><td>2017-01-01</td><td>&quot;Shakira&quot;</td><td>&quot;https://open.spotify.com/track…</td><td>&quot;Argentina&quot;</td><td>&quot;top200&quot;</td><td>&quot;SAME_POSITION&quot;</td><td>253019.0</td><td>&quot;6mICuAdrwEjh6Y6lroV2Kg&quot;</td><td>&quot;El Dorado&quot;</td><td>78.0</td><td>195840.0</td><td>false</td><td>&quot;2017-05-26&quot;</td><td>&quot;[&#x27;AR&#x27;, &#x27;AU&#x27;, &#x27;AT&#x27;, &#x27;BE&#x27;, &#x27;BO&#x27;,…</td><td>0.852</td><td>0.773</td><td>8.0</td><td>-2.921</td><td>0.0</td><td>0.0776</td><td>0.187</td><td>0.0000305</td><td>0.159</td><td>0.907</td><td>102.034</td><td>4.0</td><td>2</td></tr><tr><td>201</td><td>201</td><td>&quot;Starboy&quot;</td><td>1</td><td>2017-01-01</td><td>&quot;The Weeknd, Daft Punk&quot;</td><td>&quot;https://open.spotify.com/track…</td><td>&quot;Australia&quot;</td><td>&quot;top200&quot;</td><td>&quot;MOVE_UP&quot;</td><td>107350.0</td><td>&quot;5aAx2yezTd8zXrkmtKl66Z&quot;</td><td>&quot;Starboy&quot;</td><td>23.0</td><td>230453.0</td><td>true</td><td>&quot;2016-11-25&quot;</td><td>&quot;[]&quot;</td><td>0.681</td><td>0.594</td><td>7.0</td><td>-7.028</td><td>1.0</td><td>0.282</td><td>0.165</td><td>0.000003</td><td>0.134</td><td>0.535</td><td>186.054</td><td>4.0</td><td>2</td></tr><tr><td>402</td><td>402</td><td>&quot;Alone&quot;</td><td>1</td><td>2017-01-01</td><td>&quot;Alan Walker&quot;</td><td>&quot;https://open.spotify.com/track…</td><td>&quot;Austria&quot;</td><td>&quot;top200&quot;</td><td>&quot;MOVE_UP&quot;</td><td>12990.0</td><td>&quot;0JiVRyTJcJnmlwCZ854K4p&quot;</td><td>&quot;Alone&quot;</td><td>62.0</td><td>161200.0</td><td>false</td><td>&quot;2016-12-02&quot;</td><td>&quot;[&#x27;AR&#x27;, &#x27;AU&#x27;, &#x27;AT&#x27;, &#x27;BE&#x27;, &#x27;BO&#x27;,…</td><td>0.676</td><td>0.929</td><td>10.0</td><td>-3.194</td><td>1.0</td><td>0.0458</td><td>0.186</td><td>0.000405</td><td>0.121</td><td>0.157</td><td>97.019</td><td>4.0</td><td>2</td></tr><tr><td>603</td><td>603</td><td>&quot;Hey Baby&quot;</td><td>1</td><td>2017-01-01</td><td>&quot;Dimitri Vegas &amp; Like Mike, Dip…</td><td>&quot;https://open.spotify.com/track…</td><td>&quot;Belgium&quot;</td><td>&quot;top200&quot;</td><td>&quot;MOVE_UP&quot;</td><td>23277.0</td><td>&quot;6yc377A8qxHIjPUcjGD4ET&quot;</td><td>&quot;Dimitri Vegas &amp; Like Mike - Th…</td><td>5.0</td><td>190812.0</td><td>false</td><td>&quot;2017-03-21&quot;</td><td>&quot;[&#x27;KH&#x27;, &#x27;LA&#x27;, &#x27;TH&#x27;, &#x27;VN&#x27;]&quot;</td><td>0.658</td><td>0.88</td><td>6.0</td><td>-4.582</td><td>0.0</td><td>0.0845</td><td>0.0154</td><td>0.0</td><td>0.235</td><td>0.831</td><td>90.018</td><td>4.0</td><td>2</td></tr><tr><td>803</td><td>803</td><td>&quot;Reggaetón Lento (Bailemos)&quot;</td><td>1</td><td>2017-01-01</td><td>&quot;CNCO&quot;</td><td>&quot;https://open.spotify.com/track…</td><td>&quot;Bolivia&quot;</td><td>&quot;top200&quot;</td><td>&quot;SAME_POSITION&quot;</td><td>6784.0</td><td>&quot;3AEZUABDXNtecAOSC1qTfo&quot;</td><td>&quot;Primera Cita&quot;</td><td>73.0</td><td>222560.0</td><td>false</td><td>&quot;2016-08-26&quot;</td><td>&quot;[&#x27;AR&#x27;, &#x27;AU&#x27;, &#x27;AT&#x27;, &#x27;BE&#x27;, &#x27;BO&#x27;,…</td><td>0.761</td><td>0.838</td><td>4.0</td><td>-3.073</td><td>0.0</td><td>0.0502</td><td>0.4</td><td>0.0</td><td>0.176</td><td>0.71</td><td>93.974</td><td>4.0</td><td>2</td></tr><tr><td>&hellip;</td><td>&hellip;</td><td>&hellip;</td><td>&hellip;</td><td>&hellip;</td><td>&hellip;</td><td>&hellip;</td><td>&hellip;</td><td>&hellip;</td><td>&hellip;</td><td>&hellip;</td><td>&hellip;</td><td>&hellip;</td><td>&hellip;</td><td>&hellip;</td><td>&hellip;</td><td>&hellip;</td><td>&hellip;</td><td>&hellip;</td><td>&hellip;</td><td>&hellip;</td><td>&hellip;</td><td>&hellip;</td><td>&hellip;</td><td>&hellip;</td><td>&hellip;</td><td>&hellip;</td><td>&hellip;</td><td>&hellip;</td><td>&hellip;</td><td>&hellip;</td></tr><tr><td>998699</td><td>998699</td><td>&quot;Cake By The Ocean&quot;</td><td>200</td><td>2017-02-17</td><td>&quot;DNCE&quot;</td><td>&quot;https://open.spotify.com/track…</td><td>&quot;Indonesia&quot;</td><td>&quot;top200&quot;</td><td>&quot;NEW_ENTRY&quot;</td><td>4938.0</td><td>&quot;2aFiaMXmWsM3Vj72F9ksBl&quot;</td><td>&quot;DNCE&quot;</td><td>0.0</td><td>219146.0</td><td>true</td><td>&quot;2016-11-18&quot;</td><td>&quot;[]&quot;</td><td>0.774</td><td>0.764</td><td>4.0</td><td>-5.445</td><td>0.0</td><td>0.0518</td><td>0.156</td><td>0.0</td><td>0.0383</td><td>0.912</td><td>118.997</td><td>4.0</td><td>201</td></tr><tr><td>999041</td><td>999041</td><td>&quot;友よ 〜 この先もずっと・・・&quot;</td><td>200</td><td>2018-02-13</td><td>&quot;Ketsumeishi&quot;</td><td>&quot;https://open.spotify.com/track…</td><td>&quot;Japan&quot;</td><td>&quot;top200&quot;</td><td>&quot;MOVE_DOWN&quot;</td><td>3871.0</td><td>&quot;3A0VFRUxhqpJeOxo0rklqC&quot;</td><td>&quot;KETSUNOPOLIS 10&quot;</td><td>59.0</td><td>315413.0</td><td>false</td><td>&quot;2016-10-26&quot;</td><td>&quot;[&#x27;AR&#x27;, &#x27;AU&#x27;, &#x27;AT&#x27;, &#x27;BE&#x27;, &#x27;BO&#x27;,…</td><td>0.635</td><td>0.914</td><td>0.0</td><td>-3.84</td><td>1.0</td><td>0.0464</td><td>0.042</td><td>0.0</td><td>0.2</td><td>0.674</td><td>127.024</td><td>4.0</td><td>201</td></tr><tr><td>999309</td><td>999309</td><td>&quot;She Loves Control&quot;</td><td>200</td><td>2018-02-13</td><td>&quot;Camila Cabello&quot;</td><td>&quot;https://open.spotify.com/track…</td><td>&quot;Malaysia&quot;</td><td>&quot;top200&quot;</td><td>&quot;MOVE_DOWN&quot;</td><td>4389.0</td><td>&quot;5HwnezK198pJCEj1l2Adjy&quot;</td><td>&quot;Camila&quot;</td><td>58.0</td><td>177160.0</td><td>false</td><td>&quot;2018-01-12&quot;</td><td>&quot;[&#x27;AR&#x27;, &#x27;AU&#x27;, &#x27;AT&#x27;, &#x27;BE&#x27;, &#x27;BO&#x27;,…</td><td>0.65</td><td>0.758</td><td>2.0</td><td>-4.02</td><td>1.0</td><td>0.116</td><td>0.166</td><td>0.0</td><td>0.0889</td><td>0.663</td><td>94.9</td><td>4.0</td><td>201</td></tr><tr><td>999436</td><td>999436</td><td>&quot;T-Shirt&quot;</td><td>200</td><td>2017-02-17</td><td>&quot;Migos&quot;</td><td>&quot;https://open.spotify.com/track…</td><td>&quot;Ireland&quot;</td><td>&quot;top200&quot;</td><td>&quot;MOVE_DOWN&quot;</td><td>3077.0</td><td>&quot;7KOlJ92bu51cltsD9KU5I7&quot;</td><td>&quot;Culture&quot;</td><td>0.0</td><td>242407.0</td><td>true</td><td>&quot;2017-04-07&quot;</td><td>&quot;[]&quot;</td><td>0.865</td><td>0.687</td><td>10.0</td><td>-3.744</td><td>0.0</td><td>0.217</td><td>0.242</td><td>0.0</td><td>0.158</td><td>0.486</td><td>139.023</td><td>4.0</td><td>201</td></tr><tr><td>999636</td><td>999636</td><td>&quot;Sugar (feat. Francesco Yates)&quot;</td><td>200</td><td>2017-02-17</td><td>&quot;Robin Schulz&quot;</td><td>&quot;https://open.spotify.com/track…</td><td>&quot;Italy&quot;</td><td>&quot;top200&quot;</td><td>&quot;NEW_ENTRY&quot;</td><td>10621.0</td><td>&quot;5tf1VVWniHgryyumXyJM7w&quot;</td><td>&quot;Sugar&quot;</td><td>79.0</td><td>219043.0</td><td>false</td><td>&quot;2015-09-25&quot;</td><td>&quot;[&#x27;AR&#x27;, &#x27;AU&#x27;, &#x27;AT&#x27;, &#x27;BE&#x27;, &#x27;BO&#x27;,…</td><td>0.636</td><td>0.815</td><td>5.0</td><td>-5.098</td><td>0.0</td><td>0.0581</td><td>0.0185</td><td>0.0</td><td>0.163</td><td>0.636</td><td>123.063</td><td>4.0</td><td>201</td></tr></tbody></table></div>"
      ],
      "text/plain": [
       "shape: (1_000_000, 31)\n",
       "┌────────┬────────────┬─────────────────┬──────┬───┬────────────┬──────────┬─────────────────┬─────┐\n",
       "│        ┆ Unnamed: 0 ┆ title           ┆ rank ┆ … ┆ af_valence ┆ af_tempo ┆ af_time_signatu ┆ w   │\n",
       "│ ---    ┆ ---        ┆ ---             ┆ ---  ┆   ┆ ---        ┆ ---      ┆ re              ┆ --- │\n",
       "│ i64    ┆ i64        ┆ str             ┆ i64  ┆   ┆ f64        ┆ f64      ┆ ---             ┆ i64 │\n",
       "│        ┆            ┆                 ┆      ┆   ┆            ┆          ┆ f64             ┆     │\n",
       "╞════════╪════════════╪═════════════════╪══════╪═══╪════════════╪══════════╪═════════════════╪═════╡\n",
       "│ 0      ┆ 0          ┆ Chantaje (feat. ┆ 1    ┆ … ┆ 0.907      ┆ 102.034  ┆ 4.0             ┆ 2   │\n",
       "│        ┆            ┆ Maluma)         ┆      ┆   ┆            ┆          ┆                 ┆     │\n",
       "│ 201    ┆ 201        ┆ Starboy         ┆ 1    ┆ … ┆ 0.535      ┆ 186.054  ┆ 4.0             ┆ 2   │\n",
       "│ 402    ┆ 402        ┆ Alone           ┆ 1    ┆ … ┆ 0.157      ┆ 97.019   ┆ 4.0             ┆ 2   │\n",
       "│ 603    ┆ 603        ┆ Hey Baby        ┆ 1    ┆ … ┆ 0.831      ┆ 90.018   ┆ 4.0             ┆ 2   │\n",
       "│ 803    ┆ 803        ┆ Reggaetón Lento ┆ 1    ┆ … ┆ 0.71       ┆ 93.974   ┆ 4.0             ┆ 2   │\n",
       "│        ┆            ┆ (Bailemos)      ┆      ┆   ┆            ┆          ┆                 ┆     │\n",
       "│ …      ┆ …          ┆ …               ┆ …    ┆ … ┆ …          ┆ …        ┆ …               ┆ …   │\n",
       "│ 998699 ┆ 998699     ┆ Cake By The     ┆ 200  ┆ … ┆ 0.912      ┆ 118.997  ┆ 4.0             ┆ 201 │\n",
       "│        ┆            ┆ Ocean           ┆      ┆   ┆            ┆          ┆                 ┆     │\n",
       "│ 999041 ┆ 999041     ┆ 友よ 〜 この先  ┆ 200  ┆ … ┆ 0.674      ┆ 127.024  ┆ 4.0             ┆ 201 │\n",
       "│        ┆            ┆ もずっと・・・  ┆      ┆   ┆            ┆          ┆                 ┆     │\n",
       "│ 999309 ┆ 999309     ┆ She Loves       ┆ 200  ┆ … ┆ 0.663      ┆ 94.9     ┆ 4.0             ┆ 201 │\n",
       "│        ┆            ┆ Control         ┆      ┆   ┆            ┆          ┆                 ┆     │\n",
       "│ 999436 ┆ 999436     ┆ T-Shirt         ┆ 200  ┆ … ┆ 0.486      ┆ 139.023  ┆ 4.0             ┆ 201 │\n",
       "│ 999636 ┆ 999636     ┆ Sugar (feat.    ┆ 200  ┆ … ┆ 0.636      ┆ 123.063  ┆ 4.0             ┆ 201 │\n",
       "│        ┆            ┆ Francesco       ┆      ┆   ┆            ┆          ┆                 ┆     │\n",
       "│        ┆            ┆ Yates)          ┆      ┆   ┆            ┆          ┆                 ┆     │\n",
       "└────────┴────────────┴─────────────────┴──────┴───┴────────────┴──────────┴─────────────────┴─────┘"
      ]
     },
     "execution_count": 14,
     "metadata": {},
     "output_type": "execute_result"
    }
   ],
   "source": [
    "total_metrics = total_metrics.with_columns(pl.Series(name=\"Sort\", values= get_metrics(\"df.sort('rank')\",NUM_REP)))\n",
    "df.sort('rank')"
   ]
  },
  {
   "cell_type": "markdown",
   "id": "32e37fe6-0fcd-49b0-989e-1c911060e381",
   "metadata": {},
   "source": [
    "<h2 style='color:#d2ff91;' align=\"center\">Descripción general de un  Dataframe<h2>"
   ]
  },
  {
   "cell_type": "markdown",
   "id": "99bbbe87-54db-4bdc-9ea1-25bb39c67a43",
   "metadata": {},
   "source": [
    "## Describe"
   ]
  },
  {
   "cell_type": "code",
   "execution_count": 15,
   "id": "5816db24-bfaf-4458-b003-89c9f137daa0",
   "metadata": {},
   "outputs": [
    {
     "name": "stdout",
     "output_type": "stream",
     "text": [
      "Tiempo de ejecución: 3.826918840408325 segundos\n"
     ]
    },
    {
     "data": {
      "text/html": [
       "<div><style>\n",
       ".dataframe > thead > tr,\n",
       ".dataframe > tbody > tr {\n",
       "  text-align: right;\n",
       "  white-space: pre-wrap;\n",
       "}\n",
       "</style>\n",
       "<small>shape: (9, 32)</small><table border=\"1\" class=\"dataframe\"><thead><tr><th>statistic</th><th></th><th>Unnamed: 0</th><th>title</th><th>rank</th><th>date</th><th>artist</th><th>url</th><th>region</th><th>chart</th><th>trend</th><th>streams</th><th>track_id</th><th>album</th><th>popularity</th><th>duration_ms</th><th>explicit</th><th>release_date</th><th>available_markets</th><th>af_danceability</th><th>af_energy</th><th>af_key</th><th>af_loudness</th><th>af_mode</th><th>af_speechiness</th><th>af_acousticness</th><th>af_instrumentalness</th><th>af_liveness</th><th>af_valence</th><th>af_tempo</th><th>af_time_signature</th><th>w</th></tr><tr><td>str</td><td>f64</td><td>f64</td><td>str</td><td>f64</td><td>str</td><td>str</td><td>str</td><td>str</td><td>str</td><td>str</td><td>f64</td><td>str</td><td>str</td><td>f64</td><td>f64</td><td>f64</td><td>str</td><td>str</td><td>f64</td><td>f64</td><td>f64</td><td>f64</td><td>f64</td><td>f64</td><td>f64</td><td>f64</td><td>f64</td><td>f64</td><td>f64</td><td>f64</td><td>f64</td></tr></thead><tbody><tr><td>&quot;count&quot;</td><td>1e6</td><td>1e6</td><td>&quot;1000000&quot;</td><td>1e6</td><td>&quot;1000000&quot;</td><td>&quot;1000000&quot;</td><td>&quot;1000000&quot;</td><td>&quot;1000000&quot;</td><td>&quot;1000000&quot;</td><td>&quot;1000000&quot;</td><td>832882.0</td><td>&quot;999987&quot;</td><td>&quot;999700&quot;</td><td>999987.0</td><td>999987.0</td><td>999987.0</td><td>&quot;999987&quot;</td><td>&quot;999987&quot;</td><td>999987.0</td><td>999987.0</td><td>999987.0</td><td>999987.0</td><td>999987.0</td><td>999987.0</td><td>999987.0</td><td>999987.0</td><td>999987.0</td><td>999987.0</td><td>999987.0</td><td>999987.0</td><td>1e6</td></tr><tr><td>&quot;null_count&quot;</td><td>0.0</td><td>0.0</td><td>&quot;0&quot;</td><td>0.0</td><td>&quot;0&quot;</td><td>&quot;0&quot;</td><td>&quot;0&quot;</td><td>&quot;0&quot;</td><td>&quot;0&quot;</td><td>&quot;0&quot;</td><td>167118.0</td><td>&quot;13&quot;</td><td>&quot;300&quot;</td><td>13.0</td><td>13.0</td><td>13.0</td><td>&quot;13&quot;</td><td>&quot;13&quot;</td><td>13.0</td><td>13.0</td><td>13.0</td><td>13.0</td><td>13.0</td><td>13.0</td><td>13.0</td><td>13.0</td><td>13.0</td><td>13.0</td><td>13.0</td><td>13.0</td><td>0.0</td></tr><tr><td>&quot;mean&quot;</td><td>499999.5</td><td>499999.5</td><td>null</td><td>83.403548</td><td>&quot;2018-02-27&quot;</td><td>null</td><td>null</td><td>null</td><td>null</td><td>null</td><td>51636.593096</td><td>null</td><td>null</td><td>38.465935</td><td>216560.345224</td><td>0.254392</td><td>null</td><td>null</td><td>0.678832</td><td>0.662008</td><td>5.33037</td><td>-5.98828</td><td>0.577042</td><td>0.102934</td><td>0.222782</td><td>0.011335</td><td>0.167671</td><td>0.511152</td><td>120.29305</td><td>3.979186</td><td>84.403548</td></tr><tr><td>&quot;std&quot;</td><td>288675.278932</td><td>288675.278932</td><td>null</td><td>58.849084</td><td>null</td><td>null</td><td>null</td><td>null</td><td>null</td><td>null</td><td>200194.178044</td><td>null</td><td>null</td><td>32.855608</td><td>60810.346346</td><td>null</td><td>null</td><td>null</td><td>0.13336</td><td>0.163482</td><td>3.672533</td><td>2.298675</td><td>0.494029</td><td>0.092364</td><td>0.231255</td><td>0.079424</td><td>0.124262</td><td>0.222644</td><td>28.910258</td><td>0.22607</td><td>58.849084</td></tr><tr><td>&quot;min&quot;</td><td>0.0</td><td>0.0</td><td>&quot;!&quot;</td><td>1.0</td><td>&quot;2017-01-01&quot;</td><td>&quot;!!!&quot;</td><td>&quot;https://open.spotify.com/track…</td><td>&quot;Andorra&quot;</td><td>&quot;top200&quot;</td><td>&quot;MOVE_DOWN&quot;</td><td>1001.0</td><td>&quot;000xYdQfIZ4pDmBGzQalKU&quot;</td><td>&quot;!Pa&#x27;que Nadie Se Quede Senta&#x27;o…</td><td>0.0</td><td>0.0</td><td>0.0</td><td>&quot;0&quot;</td><td>&quot;[&#x27;AD&#x27;, &#x27;AE&#x27;, &#x27;AG&#x27;, &#x27;AL&#x27;, &#x27;AR&#x27;,…</td><td>0.0645</td><td>0.00611</td><td>0.0</td><td>-50.398</td><td>0.0</td><td>0.022</td><td>0.000003</td><td>0.0</td><td>0.017</td><td>0.00255</td><td>31.262</td><td>1.0</td><td>2.0</td></tr><tr><td>&quot;25%&quot;</td><td>250000.0</td><td>250000.0</td><td>null</td><td>32.0</td><td>&quot;2017-02-13&quot;</td><td>null</td><td>null</td><td>null</td><td>null</td><td>null</td><td>3345.0</td><td>null</td><td>null</td><td>0.0</td><td>191139.0</td><td>null</td><td>null</td><td>null</td><td>0.6</td><td>0.555</td><td>2.0</td><td>-7.123</td><td>0.0</td><td>0.0432</td><td>0.0439</td><td>0.0</td><td>0.0932</td><td>0.339</td><td>97.028</td><td>4.0</td><td>33.0</td></tr><tr><td>&quot;50%&quot;</td><td>500000.0</td><td>500000.0</td><td>null</td><td>73.0</td><td>&quot;2018-02-05&quot;</td><td>null</td><td>null</td><td>null</td><td>null</td><td>null</td><td>9105.0</td><td>null</td><td>null</td><td>46.0</td><td>211670.0</td><td>null</td><td>null</td><td>null</td><td>0.696</td><td>0.68</td><td>6.0</td><td>-5.674</td><td>1.0</td><td>0.0649</td><td>0.141</td><td>0.0</td><td>0.122</td><td>0.506</td><td>116.073</td><td>4.0</td><td>74.0</td></tr><tr><td>&quot;75%&quot;</td><td>749999.0</td><td>749999.0</td><td>null</td><td>133.0</td><td>&quot;2018-04-07&quot;</td><td>null</td><td>null</td><td>null</td><td>null</td><td>null</td><td>30590.0</td><td>null</td><td>null</td><td>69.0</td><td>235477.0</td><td>null</td><td>null</td><td>null</td><td>0.773</td><td>0.787</td><td>8.0</td><td>-4.393</td><td>1.0</td><td>0.126</td><td>0.33</td><td>0.0000214</td><td>0.191</td><td>0.69</td><td>138.292</td><td>4.0</td><td>134.0</td></tr><tr><td>&quot;max&quot;</td><td>9.99999e5</td><td>9.99999e5</td><td>&quot;항상 (HANGSANG)&quot;</td><td>200.0</td><td>&quot;2021-10-15&quot;</td><td>&quot;김민재, Younha&quot;</td><td>&quot;https://open.spotify.com/track…</td><td>&quot;Vietnam&quot;</td><td>&quot;viral50&quot;</td><td>&quot;SAME_POSITION&quot;</td><td>7.985803e6</td><td>&quot;7zzI3SbctTJN6wDerZNZCD&quot;</td><td>&quot;화양연화 The Most Beautiful Moment…</td><td>90.0</td><td>9.318296e6</td><td>1.0</td><td>&quot;2021-10-15&quot;</td><td>&quot;[]&quot;</td><td>0.983</td><td>0.999</td><td>11.0</td><td>1.509</td><td>1.0</td><td>0.961</td><td>0.995</td><td>0.987</td><td>0.993</td><td>0.989</td><td>229.921</td><td>5.0</td><td>201.0</td></tr></tbody></table></div>"
      ],
      "text/plain": [
       "shape: (9, 32)\n",
       "┌───────────┬───────────┬───────────┬───────────┬───┬───────────┬───────────┬───────────┬──────────┐\n",
       "│ statistic ┆           ┆ Unnamed:  ┆ title     ┆ … ┆ af_valenc ┆ af_tempo  ┆ af_time_s ┆ w        │\n",
       "│ ---       ┆ ---       ┆ 0         ┆ ---       ┆   ┆ e         ┆ ---       ┆ ignature  ┆ ---      │\n",
       "│ str       ┆ f64       ┆ ---       ┆ str       ┆   ┆ ---       ┆ f64       ┆ ---       ┆ f64      │\n",
       "│           ┆           ┆ f64       ┆           ┆   ┆ f64       ┆           ┆ f64       ┆          │\n",
       "╞═══════════╪═══════════╪═══════════╪═══════════╪═══╪═══════════╪═══════════╪═══════════╪══════════╡\n",
       "│ count     ┆ 1e6       ┆ 1e6       ┆ 1000000   ┆ … ┆ 999987.0  ┆ 999987.0  ┆ 999987.0  ┆ 1e6      │\n",
       "│ null_coun ┆ 0.0       ┆ 0.0       ┆ 0         ┆ … ┆ 13.0      ┆ 13.0      ┆ 13.0      ┆ 0.0      │\n",
       "│ t         ┆           ┆           ┆           ┆   ┆           ┆           ┆           ┆          │\n",
       "│ mean      ┆ 499999.5  ┆ 499999.5  ┆ null      ┆ … ┆ 0.511152  ┆ 120.29305 ┆ 3.979186  ┆ 84.40354 │\n",
       "│           ┆           ┆           ┆           ┆   ┆           ┆           ┆           ┆ 8        │\n",
       "│ std       ┆ 288675.27 ┆ 288675.27 ┆ null      ┆ … ┆ 0.222644  ┆ 28.910258 ┆ 0.22607   ┆ 58.84908 │\n",
       "│           ┆ 8932      ┆ 8932      ┆           ┆   ┆           ┆           ┆           ┆ 4        │\n",
       "│ min       ┆ 0.0       ┆ 0.0       ┆ !         ┆ … ┆ 0.00255   ┆ 31.262    ┆ 1.0       ┆ 2.0      │\n",
       "│ 25%       ┆ 250000.0  ┆ 250000.0  ┆ null      ┆ … ┆ 0.339     ┆ 97.028    ┆ 4.0       ┆ 33.0     │\n",
       "│ 50%       ┆ 500000.0  ┆ 500000.0  ┆ null      ┆ … ┆ 0.506     ┆ 116.073   ┆ 4.0       ┆ 74.0     │\n",
       "│ 75%       ┆ 749999.0  ┆ 749999.0  ┆ null      ┆ … ┆ 0.69      ┆ 138.292   ┆ 4.0       ┆ 134.0    │\n",
       "│ max       ┆ 9.99999e5 ┆ 9.99999e5 ┆ 항상 (HAN ┆ … ┆ 0.989     ┆ 229.921   ┆ 5.0       ┆ 201.0    │\n",
       "│           ┆           ┆           ┆ GSANG)    ┆   ┆           ┆           ┆           ┆          │\n",
       "└───────────┴───────────┴───────────┴───────────┴───┴───────────┴───────────┴───────────┴──────────┘"
      ]
     },
     "execution_count": 15,
     "metadata": {},
     "output_type": "execute_result"
    }
   ],
   "source": [
    "total_metrics = total_metrics.with_columns(pl.Series(name=\"Describe\", values= get_metrics(\"df.describe()\",NUM_REP)))\n",
    "df.describe()"
   ]
  },
  {
   "cell_type": "code",
   "execution_count": 16,
   "id": "151b6a4c-2b92-42d7-b6a1-2f6619aefe66",
   "metadata": {},
   "outputs": [
    {
     "data": {
      "text/plain": [
       "891.7858018875122"
      ]
     },
     "execution_count": 16,
     "metadata": {},
     "output_type": "execute_result"
    }
   ],
   "source": [
    "df.estimated_size(\"mb\")"
   ]
  },
  {
   "cell_type": "markdown",
   "id": "eb45c46f-4fc3-4250-b702-17abbb4815b2",
   "metadata": {},
   "source": [
    "<img src=\"img/N.png\">"
   ]
  },
  {
   "cell_type": "markdown",
   "id": "3cb3a178-e1c1-4843-abce-9eb5892b1ff9",
   "metadata": {},
   "source": [
    "## Group by"
   ]
  },
  {
   "cell_type": "code",
   "execution_count": 17,
   "id": "9b75f3cf-51e6-4df7-a2db-1ae855fe571e",
   "metadata": {},
   "outputs": [
    {
     "name": "stdout",
     "output_type": "stream",
     "text": [
      "Tiempo de ejecución: 0.31777501106262207 segundos\n"
     ]
    },
    {
     "data": {
      "text/html": [
       "<div><style>\n",
       ".dataframe > thead > tr,\n",
       ".dataframe > tbody > tr {\n",
       "  text-align: right;\n",
       "  white-space: pre-wrap;\n",
       "}\n",
       "</style>\n",
       "<small>shape: (67, 2)</small><table border=\"1\" class=\"dataframe\"><thead><tr><th>region</th><th>rank</th></tr><tr><td>str</td><td>f64</td></tr></thead><tbody><tr><td>&quot;Spain&quot;</td><td>88.626179</td></tr><tr><td>&quot;Saudi Arabia&quot;</td><td>99.084309</td></tr><tr><td>&quot;Italy&quot;</td><td>89.033419</td></tr><tr><td>&quot;Australia&quot;</td><td>89.382114</td></tr><tr><td>&quot;Canada&quot;</td><td>89.293123</td></tr><tr><td>&hellip;</td><td>&hellip;</td></tr><tr><td>&quot;Dominican Republic&quot;</td><td>77.33058</td></tr><tr><td>&quot;Austria&quot;</td><td>89.330376</td></tr><tr><td>&quot;Egypt&quot;</td><td>61.787967</td></tr><tr><td>&quot;Argentina&quot;</td><td>89.419842</td></tr><tr><td>&quot;Brazil&quot;</td><td>89.30642</td></tr></tbody></table></div>"
      ],
      "text/plain": [
       "shape: (67, 2)\n",
       "┌────────────────────┬───────────┐\n",
       "│ region             ┆ rank      │\n",
       "│ ---                ┆ ---       │\n",
       "│ str                ┆ f64       │\n",
       "╞════════════════════╪═══════════╡\n",
       "│ Spain              ┆ 88.626179 │\n",
       "│ Saudi Arabia       ┆ 99.084309 │\n",
       "│ Italy              ┆ 89.033419 │\n",
       "│ Australia          ┆ 89.382114 │\n",
       "│ Canada             ┆ 89.293123 │\n",
       "│ …                  ┆ …         │\n",
       "│ Dominican Republic ┆ 77.33058  │\n",
       "│ Austria            ┆ 89.330376 │\n",
       "│ Egypt              ┆ 61.787967 │\n",
       "│ Argentina          ┆ 89.419842 │\n",
       "│ Brazil             ┆ 89.30642  │\n",
       "└────────────────────┴───────────┘"
      ]
     },
     "execution_count": 17,
     "metadata": {},
     "output_type": "execute_result"
    }
   ],
   "source": [
    "total_metrics = total_metrics.with_columns(pl.Series(name=\"GroupBy\", values= get_metrics(\"df.group_by('region').agg([pl.col('rank').mean()])\",NUM_REP)))\n",
    "df.group_by('region').agg([pl.col('rank').mean()])"
   ]
  },
  {
   "cell_type": "markdown",
   "id": "18a5ca72-d69f-4e03-82e0-9398a4bb6608",
   "metadata": {},
   "source": [
    "## BTW"
   ]
  },
  {
   "cell_type": "code",
   "execution_count": 18,
   "id": "7aea2d39-3bfb-4aaf-81fe-3dd83da9341d",
   "metadata": {
    "scrolled": true
   },
   "outputs": [],
   "source": [
    "rr=df.lazy().group_by('region').agg([pl.col('rank').mean()])"
   ]
  },
  {
   "cell_type": "code",
   "execution_count": 19,
   "id": "9783b9ed-456f-40fd-978c-7274e6a6f26d",
   "metadata": {},
   "outputs": [
    {
     "data": {
      "text/html": [
       "<div><style>\n",
       ".dataframe > thead > tr,\n",
       ".dataframe > tbody > tr {\n",
       "  text-align: right;\n",
       "  white-space: pre-wrap;\n",
       "}\n",
       "</style>\n",
       "<small>shape: (67, 2)</small><table border=\"1\" class=\"dataframe\"><thead><tr><th>region</th><th>rank</th></tr><tr><td>str</td><td>f64</td></tr></thead><tbody><tr><td>&quot;Italy&quot;</td><td>89.033419</td></tr><tr><td>&quot;Germany&quot;</td><td>88.965466</td></tr><tr><td>&quot;Taiwan&quot;</td><td>93.951557</td></tr><tr><td>&quot;Uruguay&quot;</td><td>84.566763</td></tr><tr><td>&quot;Nicaragua&quot;</td><td>29.652711</td></tr><tr><td>&hellip;</td><td>&hellip;</td></tr><tr><td>&quot;Latvia&quot;</td><td>29.921521</td></tr><tr><td>&quot;Slovakia&quot;</td><td>50.359393</td></tr><tr><td>&quot;South Africa&quot;</td><td>98.998117</td></tr><tr><td>&quot;Portugal&quot;</td><td>88.575514</td></tr><tr><td>&quot;Andorra&quot;</td><td>25.398253</td></tr></tbody></table></div>"
      ],
      "text/plain": [
       "shape: (67, 2)\n",
       "┌──────────────┬───────────┐\n",
       "│ region       ┆ rank      │\n",
       "│ ---          ┆ ---       │\n",
       "│ str          ┆ f64       │\n",
       "╞══════════════╪═══════════╡\n",
       "│ Italy        ┆ 89.033419 │\n",
       "│ Germany      ┆ 88.965466 │\n",
       "│ Taiwan       ┆ 93.951557 │\n",
       "│ Uruguay      ┆ 84.566763 │\n",
       "│ Nicaragua    ┆ 29.652711 │\n",
       "│ …            ┆ …         │\n",
       "│ Latvia       ┆ 29.921521 │\n",
       "│ Slovakia     ┆ 50.359393 │\n",
       "│ South Africa ┆ 98.998117 │\n",
       "│ Portugal     ┆ 88.575514 │\n",
       "│ Andorra      ┆ 25.398253 │\n",
       "└──────────────┴───────────┘"
      ]
     },
     "execution_count": 19,
     "metadata": {},
     "output_type": "execute_result"
    }
   ],
   "source": [
    "rr.collect()"
   ]
  },
  {
   "cell_type": "markdown",
   "id": "d8bf5fc6-f547-4be5-8b54-4f7b82cdd936",
   "metadata": {},
   "source": [
    "Supongamos que queremos agrupar todas las canciones por artistas, y dentro de cada artista queremos realizar las siguientes operaciones:\n",
    "- Calcular los flujos totales.\n",
    "- Obtener el promedio de la popularidad.\n",
    "- Contar el número único de track_id.\n",
    "- Calcular la suma de duración_ms"
   ]
  },
  {
   "cell_type": "code",
   "execution_count": 20,
   "id": "94df3ed8-ac4d-4ab7-acf5-d5dcf69e9d48",
   "metadata": {},
   "outputs": [
    {
     "data": {
      "text/html": [
       "<div><style>\n",
       ".dataframe > thead > tr,\n",
       ".dataframe > tbody > tr {\n",
       "  text-align: right;\n",
       "  white-space: pre-wrap;\n",
       "}\n",
       "</style>\n",
       "<small>shape: (13_339, 5)</small><table border=\"1\" class=\"dataframe\"><thead><tr><th>artist</th><th>total_streams</th><th>average_popularity</th><th>unique_tracks</th><th>total_duration</th></tr><tr><td>str</td><td>f64</td><td>f64</td><td>u32</td><td>f64</td></tr></thead><tbody><tr><td>&quot;Hardy Caprio&quot;</td><td>2.559379e6</td><td>39.52</td><td>2</td><td>4.325e6</td></tr><tr><td>&quot;Giusy Ferreri&quot;</td><td>272022.0</td><td>28.0</td><td>1</td><td>1.79586e6</td></tr><tr><td>&quot;Korina Rivadeneira&quot;</td><td>28823.0</td><td>0.0</td><td>1</td><td>999820.0</td></tr><tr><td>&quot;Kygo, Andrew Jackson&quot;</td><td>99850.0</td><td>0.0</td><td>1</td><td>2.018997e6</td></tr><tr><td>&quot;Noyz Narcos&quot;</td><td>1.001639e6</td><td>37.15625</td><td>5</td><td>6.466841e6</td></tr><tr><td>&hellip;</td><td>&hellip;</td><td>&hellip;</td><td>&hellip;</td><td>&hellip;</td></tr><tr><td>&quot;Anys, Stormy&quot;</td><td>27256.0</td><td>55.0</td><td>1</td><td>1.34638e6</td></tr><tr><td>&quot;S U R V I V E&quot;</td><td>0.0</td><td>30.0</td><td>1</td><td>1.647522e6</td></tr><tr><td>&quot;Sandy Lam&quot;</td><td>4178.0</td><td>58.0</td><td>1</td><td>549600.0</td></tr><tr><td>&quot;Gio&quot;</td><td>147827.0</td><td>23.0</td><td>2</td><td>1.48494e6</td></tr><tr><td>&quot;Labello, CA$HANOVA BULHAR&quot;</td><td>60659.0</td><td>51.0</td><td>1</td><td>3.15918e6</td></tr></tbody></table></div>"
      ],
      "text/plain": [
       "shape: (13_339, 5)\n",
       "┌───────────────────────────┬───────────────┬────────────────────┬───────────────┬────────────────┐\n",
       "│ artist                    ┆ total_streams ┆ average_popularity ┆ unique_tracks ┆ total_duration │\n",
       "│ ---                       ┆ ---           ┆ ---                ┆ ---           ┆ ---            │\n",
       "│ str                       ┆ f64           ┆ f64                ┆ u32           ┆ f64            │\n",
       "╞═══════════════════════════╪═══════════════╪════════════════════╪═══════════════╪════════════════╡\n",
       "│ Hardy Caprio              ┆ 2.559379e6    ┆ 39.52              ┆ 2             ┆ 4.325e6        │\n",
       "│ Giusy Ferreri             ┆ 272022.0      ┆ 28.0               ┆ 1             ┆ 1.79586e6      │\n",
       "│ Korina Rivadeneira        ┆ 28823.0       ┆ 0.0                ┆ 1             ┆ 999820.0       │\n",
       "│ Kygo, Andrew Jackson      ┆ 99850.0       ┆ 0.0                ┆ 1             ┆ 2.018997e6     │\n",
       "│ Noyz Narcos               ┆ 1.001639e6    ┆ 37.15625           ┆ 5             ┆ 6.466841e6     │\n",
       "│ …                         ┆ …             ┆ …                  ┆ …             ┆ …              │\n",
       "│ Anys, Stormy              ┆ 27256.0       ┆ 55.0               ┆ 1             ┆ 1.34638e6      │\n",
       "│ S U R V I V E             ┆ 0.0           ┆ 30.0               ┆ 1             ┆ 1.647522e6     │\n",
       "│ Sandy Lam                 ┆ 4178.0        ┆ 58.0               ┆ 1             ┆ 549600.0       │\n",
       "│ Gio                       ┆ 147827.0      ┆ 23.0               ┆ 2             ┆ 1.48494e6      │\n",
       "│ Labello, CA$HANOVA BULHAR ┆ 60659.0       ┆ 51.0               ┆ 1             ┆ 3.15918e6      │\n",
       "└───────────────────────────┴───────────────┴────────────────────┴───────────────┴────────────────┘"
      ]
     },
     "execution_count": 20,
     "metadata": {},
     "output_type": "execute_result"
    }
   ],
   "source": [
    "df.group_by(\"artist\").agg([\n",
    "        pl.col(\"streams\").sum().alias(\"total_streams\"),\n",
    "        pl.col(\"popularity\").mean().alias(\"average_popularity\"),\n",
    "        pl.col(\"track_id\").n_unique().alias(\"unique_tracks\"),\n",
    "        pl.col(\"duration_ms\").sum().alias(\"total_duration\")\n",
    "    ]).select([\n",
    "        pl.col(\"artist\"),\n",
    "        pl.col(\"total_streams\"),\n",
    "        pl.col(\"average_popularity\"),\n",
    "        pl.col(\"unique_tracks\"),\n",
    "        pl.col(\"total_duration\")\n",
    "    ])\n"
   ]
  },
  {
   "cell_type": "markdown",
   "id": "3c14ee94-1645-4b1c-85a5-d98984c6d058",
   "metadata": {},
   "source": [
    "> The essential components of Polars are expressions: functions that receive a Series and transform it into another Series. Expressions begin with a root, and then you can chain more operations.\n",
    "The most interesting feature is that expressions are not tied to a specific object but are generic. Chains of expressions define the calculation, which is materialized through a DataFrame method (acting as the execution context)."
   ]
  },
  {
   "cell_type": "markdown",
   "id": "e6a0822f-78f3-428b-a843-b7a60495166a",
   "metadata": {},
   "source": [
    "<img src=\"img/Y.png\">"
   ]
  },
  {
   "cell_type": "markdown",
   "id": "27c35bed-c0f6-4995-9d64-db82c3b553dd",
   "metadata": {},
   "source": [
    "## Datos faltantes"
   ]
  },
  {
   "cell_type": "code",
   "execution_count": 21,
   "id": "c440da50-8d77-4d48-bf97-36671521581e",
   "metadata": {},
   "outputs": [
    {
     "name": "stdout",
     "output_type": "stream",
     "text": [
      "shape: (1, 31)\n",
      "┌───────┬────────────┬───────┬───────┬───┬────────────┬──────────┬───────────────────┬───────┐\n",
      "│       ┆ Unnamed: 0 ┆ title ┆ rank  ┆ … ┆ af_valence ┆ af_tempo ┆ af_time_signature ┆ w     │\n",
      "│ ---   ┆ ---        ┆ ---   ┆ ---   ┆   ┆ ---        ┆ ---      ┆ ---               ┆ ---   │\n",
      "│ bool  ┆ bool       ┆ bool  ┆ bool  ┆   ┆ bool       ┆ bool     ┆ bool              ┆ bool  │\n",
      "╞═══════╪════════════╪═══════╪═══════╪═══╪════════════╪══════════╪═══════════════════╪═══════╡\n",
      "│ false ┆ false      ┆ false ┆ false ┆ … ┆ true       ┆ true     ┆ true              ┆ false │\n",
      "└───────┴────────────┴───────┴───────┴───┴────────────┴──────────┴───────────────────┴───────┘\n"
     ]
    }
   ],
   "source": [
    "print(df.null_count()!= 0)"
   ]
  },
  {
   "cell_type": "code",
   "execution_count": 22,
   "id": "4d0e1b60-3a19-403b-b013-8d44e0423cac",
   "metadata": {},
   "outputs": [
    {
     "data": {
      "text/plain": [
       "['streams',\n",
       " 'track_id',\n",
       " 'album',\n",
       " 'popularity',\n",
       " 'duration_ms',\n",
       " 'explicit',\n",
       " 'release_date',\n",
       " 'available_markets',\n",
       " 'af_danceability',\n",
       " 'af_energy',\n",
       " 'af_key',\n",
       " 'af_loudness',\n",
       " 'af_mode',\n",
       " 'af_speechiness',\n",
       " 'af_acousticness',\n",
       " 'af_instrumentalness',\n",
       " 'af_liveness',\n",
       " 'af_valence',\n",
       " 'af_tempo',\n",
       " 'af_time_signature']"
      ]
     },
     "execution_count": 22,
     "metadata": {},
     "output_type": "execute_result"
    }
   ],
   "source": [
    "miss = [col for col in df.columns if df[col].null_count() > 0]\n",
    "miss"
   ]
  },
  {
   "cell_type": "code",
   "execution_count": 23,
   "id": "779e0217-4f45-47a2-9bfa-af87d9088418",
   "metadata": {},
   "outputs": [
    {
     "name": "stdout",
     "output_type": "stream",
     "text": [
      "Tiempo de ejecución: 0.06750106811523438 segundos\n"
     ]
    },
    {
     "data": {
      "text/html": [
       "<div><style>\n",
       ".dataframe > thead > tr,\n",
       ".dataframe > tbody > tr {\n",
       "  text-align: right;\n",
       "  white-space: pre-wrap;\n",
       "}\n",
       "</style>\n",
       "<small>shape: (1_000_000, 31)</small><table border=\"1\" class=\"dataframe\"><thead><tr><th></th><th>Unnamed: 0</th><th>title</th><th>rank</th><th>date</th><th>artist</th><th>url</th><th>region</th><th>chart</th><th>trend</th><th>streams</th><th>track_id</th><th>album</th><th>popularity</th><th>duration_ms</th><th>explicit</th><th>release_date</th><th>available_markets</th><th>af_danceability</th><th>af_energy</th><th>af_key</th><th>af_loudness</th><th>af_mode</th><th>af_speechiness</th><th>af_acousticness</th><th>af_instrumentalness</th><th>af_liveness</th><th>af_valence</th><th>af_tempo</th><th>af_time_signature</th><th>w</th></tr><tr><td>i64</td><td>i64</td><td>str</td><td>i64</td><td>date</td><td>str</td><td>str</td><td>str</td><td>str</td><td>str</td><td>f64</td><td>str</td><td>str</td><td>f64</td><td>f64</td><td>bool</td><td>str</td><td>str</td><td>f64</td><td>f64</td><td>f64</td><td>f64</td><td>f64</td><td>f64</td><td>f64</td><td>f64</td><td>f64</td><td>f64</td><td>f64</td><td>f64</td><td>i64</td></tr></thead><tbody><tr><td>0</td><td>0</td><td>&quot;Chantaje (feat. Maluma)&quot;</td><td>1</td><td>2017-01-01</td><td>&quot;Shakira&quot;</td><td>&quot;https://open.spotify.com/track…</td><td>&quot;Argentina&quot;</td><td>&quot;top200&quot;</td><td>&quot;SAME_POSITION&quot;</td><td>253019.0</td><td>&quot;6mICuAdrwEjh6Y6lroV2Kg&quot;</td><td>&quot;El Dorado&quot;</td><td>78.0</td><td>195840.0</td><td>false</td><td>&quot;2017-05-26&quot;</td><td>&quot;[&#x27;AR&#x27;, &#x27;AU&#x27;, &#x27;AT&#x27;, &#x27;BE&#x27;, &#x27;BO&#x27;,…</td><td>0.852</td><td>0.773</td><td>8.0</td><td>-2.921</td><td>0.0</td><td>0.0776</td><td>0.187</td><td>0.0000305</td><td>0.159</td><td>0.907</td><td>102.034</td><td>4.0</td><td>2</td></tr><tr><td>1</td><td>1</td><td>&quot;Vente Pa&#x27; Ca (feat. Maluma)&quot;</td><td>2</td><td>2017-01-01</td><td>&quot;Ricky Martin&quot;</td><td>&quot;https://open.spotify.com/track…</td><td>&quot;Argentina&quot;</td><td>&quot;top200&quot;</td><td>&quot;MOVE_UP&quot;</td><td>223988.0</td><td>&quot;7DM4BPaS7uofFul3ywMe46&quot;</td><td>&quot;Vente Pa&#x27; Ca (feat. Maluma)&quot;</td><td>72.0</td><td>259195.0</td><td>false</td><td>&quot;2016-09-22&quot;</td><td>&quot;[&#x27;AR&#x27;, &#x27;AU&#x27;, &#x27;AT&#x27;, &#x27;BE&#x27;, &#x27;BO&#x27;,…</td><td>0.663</td><td>0.92</td><td>11.0</td><td>-4.07</td><td>0.0</td><td>0.226</td><td>0.00431</td><td>0.0000169</td><td>0.101</td><td>0.533</td><td>99.935</td><td>4.0</td><td>3</td></tr><tr><td>2</td><td>2</td><td>&quot;Reggaetón Lento (Bailemos)&quot;</td><td>3</td><td>2017-01-01</td><td>&quot;CNCO&quot;</td><td>&quot;https://open.spotify.com/track…</td><td>&quot;Argentina&quot;</td><td>&quot;top200&quot;</td><td>&quot;MOVE_DOWN&quot;</td><td>210943.0</td><td>&quot;3AEZUABDXNtecAOSC1qTfo&quot;</td><td>&quot;Primera Cita&quot;</td><td>73.0</td><td>222560.0</td><td>false</td><td>&quot;2016-08-26&quot;</td><td>&quot;[&#x27;AR&#x27;, &#x27;AU&#x27;, &#x27;AT&#x27;, &#x27;BE&#x27;, &#x27;BO&#x27;,…</td><td>0.761</td><td>0.838</td><td>4.0</td><td>-3.073</td><td>0.0</td><td>0.0502</td><td>0.4</td><td>0.0</td><td>0.176</td><td>0.71</td><td>93.974</td><td>4.0</td><td>4</td></tr><tr><td>3</td><td>3</td><td>&quot;Safari&quot;</td><td>4</td><td>2017-01-01</td><td>&quot;J Balvin, Pharrell Williams, B…</td><td>&quot;https://open.spotify.com/track…</td><td>&quot;Argentina&quot;</td><td>&quot;top200&quot;</td><td>&quot;SAME_POSITION&quot;</td><td>173865.0</td><td>&quot;6rQSrBHf7HlZjtcMZ4S4bO&quot;</td><td>&quot;Energía&quot;</td><td>0.0</td><td>205600.0</td><td>false</td><td>&quot;2016-06-24&quot;</td><td>&quot;[]&quot;</td><td>0.508</td><td>0.687</td><td>0.0</td><td>-4.361</td><td>1.0</td><td>0.326</td><td>0.551</td><td>0.000003</td><td>0.126</td><td>0.555</td><td>180.044</td><td>4.0</td><td>5</td></tr><tr><td>4</td><td>4</td><td>&quot;Shaky Shaky&quot;</td><td>5</td><td>2017-01-01</td><td>&quot;Daddy Yankee&quot;</td><td>&quot;https://open.spotify.com/track…</td><td>&quot;Argentina&quot;</td><td>&quot;top200&quot;</td><td>&quot;MOVE_UP&quot;</td><td>153956.0</td><td>&quot;58IL315gMSTD37DOZPJ2hf&quot;</td><td>&quot;Shaky Shaky&quot;</td><td>0.0</td><td>234320.0</td><td>false</td><td>&quot;2016-04-08&quot;</td><td>&quot;[]&quot;</td><td>0.899</td><td>0.626</td><td>6.0</td><td>-4.228</td><td>0.0</td><td>0.292</td><td>0.076</td><td>0.0</td><td>0.0631</td><td>0.873</td><td>88.007</td><td>4.0</td><td>6</td></tr><tr><td>&hellip;</td><td>&hellip;</td><td>&hellip;</td><td>&hellip;</td><td>&hellip;</td><td>&hellip;</td><td>&hellip;</td><td>&hellip;</td><td>&hellip;</td><td>&hellip;</td><td>&hellip;</td><td>&hellip;</td><td>&hellip;</td><td>&hellip;</td><td>&hellip;</td><td>&hellip;</td><td>&hellip;</td><td>&hellip;</td><td>&hellip;</td><td>&hellip;</td><td>&hellip;</td><td>&hellip;</td><td>&hellip;</td><td>&hellip;</td><td>&hellip;</td><td>&hellip;</td><td>&hellip;</td><td>&hellip;</td><td>&hellip;</td><td>&hellip;</td><td>&hellip;</td></tr><tr><td>999995</td><td>999995</td><td>&quot;Me Dediqué a Perderte&quot;</td><td>146</td><td>2018-02-13</td><td>&quot;Alejandro Fernández&quot;</td><td>&quot;https://open.spotify.com/track…</td><td>&quot;Mexico&quot;</td><td>&quot;top200&quot;</td><td>&quot;MOVE_DOWN&quot;</td><td>54206.0</td><td>&quot;4NUt1fcnO9aQAELBgXq3Kr&quot;</td><td>&quot;A Corazón Abierto&quot;</td><td>76.0</td><td>231773.0</td><td>false</td><td>&quot;2004-09-01&quot;</td><td>&quot;[&#x27;AR&#x27;, &#x27;AU&#x27;, &#x27;AT&#x27;, &#x27;BE&#x27;, &#x27;BO&#x27;,…</td><td>0.642</td><td>0.442</td><td>8.0</td><td>-9.115</td><td>1.0</td><td>0.074</td><td>0.491</td><td>0.000002</td><td>0.102</td><td>0.465</td><td>148.01</td><td>4.0</td><td>147</td></tr><tr><td>999996</td><td>999996</td><td>&quot;Something Just Like This&quot;</td><td>147</td><td>2018-02-13</td><td>&quot;The Chainsmokers, Coldplay&quot;</td><td>&quot;https://open.spotify.com/track…</td><td>&quot;Mexico&quot;</td><td>&quot;top200&quot;</td><td>&quot;MOVE_DOWN&quot;</td><td>54122.0</td><td>&quot;6RUKPb4LETWmmr3iAEQktW&quot;</td><td>&quot;Memories...Do Not Open&quot;</td><td>88.0</td><td>247160.0</td><td>false</td><td>&quot;2017-04-07&quot;</td><td>&quot;[&#x27;AR&#x27;, &#x27;AU&#x27;, &#x27;AT&#x27;, &#x27;BE&#x27;, &#x27;BO&#x27;,…</td><td>0.617</td><td>0.635</td><td>11.0</td><td>-6.769</td><td>0.0</td><td>0.0317</td><td>0.0498</td><td>0.0000144</td><td>0.164</td><td>0.446</td><td>103.019</td><td>4.0</td><td>148</td></tr><tr><td>999997</td><td>999997</td><td>&quot;Feel It Still&quot;</td><td>148</td><td>2018-02-13</td><td>&quot;Portugal. The Man&quot;</td><td>&quot;https://open.spotify.com/track…</td><td>&quot;Mexico&quot;</td><td>&quot;top200&quot;</td><td>&quot;MOVE_UP&quot;</td><td>54092.0</td><td>&quot;6QgjcU0zLnzq5OrUoSZ3OK&quot;</td><td>&quot;Woodstock&quot;</td><td>81.0</td><td>163253.0</td><td>false</td><td>&quot;2017-06-16&quot;</td><td>&quot;[&#x27;AR&#x27;, &#x27;AU&#x27;, &#x27;AT&#x27;, &#x27;BE&#x27;, &#x27;BO&#x27;,…</td><td>0.801</td><td>0.795</td><td>1.0</td><td>-5.115</td><td>0.0</td><td>0.0504</td><td>0.0417</td><td>0.000113</td><td>0.0717</td><td>0.754</td><td>79.028</td><td>4.0</td><td>149</td></tr><tr><td>999998</td><td>999998</td><td>&quot;Ahora Dice - Real Hasta La Mue…</td><td>149</td><td>2018-02-13</td><td>&quot;Chris Jedi, J Balvin, Ozuna, C…</td><td>&quot;https://open.spotify.com/track…</td><td>&quot;Mexico&quot;</td><td>&quot;top200&quot;</td><td>&quot;NEW_ENTRY&quot;</td><td>53996.0</td><td>&quot;1fs9kTASuC9RJ9say6KX2K&quot;</td><td>&quot;Ahora Dice (Real Hasta La Muer…</td><td>0.0</td><td>275826.0</td><td>true</td><td>&quot;2018-02-12&quot;</td><td>&quot;[]&quot;</td><td>0.753</td><td>0.674</td><td>1.0</td><td>-5.735</td><td>1.0</td><td>0.219</td><td>0.27</td><td>0.0</td><td>0.116</td><td>0.602</td><td>143.92</td><td>4.0</td><td>150</td></tr><tr><td>999999</td><td>999999</td><td>&quot;Ay Mi Dios (feat. Pitbull, Yan…</td><td>150</td><td>2018-02-13</td><td>&quot;IAmChino, El Chacal&quot;</td><td>&quot;https://open.spotify.com/track…</td><td>&quot;Mexico&quot;</td><td>&quot;top200&quot;</td><td>&quot;MOVE_UP&quot;</td><td>53928.0</td><td>&quot;6stYbAJgTszHAHZMPxWWCY&quot;</td><td>&quot;Ay Mi Dios (feat. Pitbull, Yan…</td><td>0.0</td><td>252003.0</td><td>false</td><td>&quot;2016-02-22&quot;</td><td>&quot;[]&quot;</td><td>0.761</td><td>0.829</td><td>0.0</td><td>-3.203</td><td>0.0</td><td>0.0681</td><td>0.167</td><td>0.0</td><td>0.189</td><td>0.813</td><td>92.033</td><td>4.0</td><td>151</td></tr></tbody></table></div>"
      ],
      "text/plain": [
       "shape: (1_000_000, 31)\n",
       "┌────────┬────────────┬─────────────────┬──────┬───┬────────────┬──────────┬─────────────────┬─────┐\n",
       "│        ┆ Unnamed: 0 ┆ title           ┆ rank ┆ … ┆ af_valence ┆ af_tempo ┆ af_time_signatu ┆ w   │\n",
       "│ ---    ┆ ---        ┆ ---             ┆ ---  ┆   ┆ ---        ┆ ---      ┆ re              ┆ --- │\n",
       "│ i64    ┆ i64        ┆ str             ┆ i64  ┆   ┆ f64        ┆ f64      ┆ ---             ┆ i64 │\n",
       "│        ┆            ┆                 ┆      ┆   ┆            ┆          ┆ f64             ┆     │\n",
       "╞════════╪════════════╪═════════════════╪══════╪═══╪════════════╪══════════╪═════════════════╪═════╡\n",
       "│ 0      ┆ 0          ┆ Chantaje (feat. ┆ 1    ┆ … ┆ 0.907      ┆ 102.034  ┆ 4.0             ┆ 2   │\n",
       "│        ┆            ┆ Maluma)         ┆      ┆   ┆            ┆          ┆                 ┆     │\n",
       "│ 1      ┆ 1          ┆ Vente Pa' Ca    ┆ 2    ┆ … ┆ 0.533      ┆ 99.935   ┆ 4.0             ┆ 3   │\n",
       "│        ┆            ┆ (feat. Maluma)  ┆      ┆   ┆            ┆          ┆                 ┆     │\n",
       "│ 2      ┆ 2          ┆ Reggaetón Lento ┆ 3    ┆ … ┆ 0.71       ┆ 93.974   ┆ 4.0             ┆ 4   │\n",
       "│        ┆            ┆ (Bailemos)      ┆      ┆   ┆            ┆          ┆                 ┆     │\n",
       "│ 3      ┆ 3          ┆ Safari          ┆ 4    ┆ … ┆ 0.555      ┆ 180.044  ┆ 4.0             ┆ 5   │\n",
       "│ 4      ┆ 4          ┆ Shaky Shaky     ┆ 5    ┆ … ┆ 0.873      ┆ 88.007   ┆ 4.0             ┆ 6   │\n",
       "│ …      ┆ …          ┆ …               ┆ …    ┆ … ┆ …          ┆ …        ┆ …               ┆ …   │\n",
       "│ 999995 ┆ 999995     ┆ Me Dediqué a    ┆ 146  ┆ … ┆ 0.465      ┆ 148.01   ┆ 4.0             ┆ 147 │\n",
       "│        ┆            ┆ Perderte        ┆      ┆   ┆            ┆          ┆                 ┆     │\n",
       "│ 999996 ┆ 999996     ┆ Something Just  ┆ 147  ┆ … ┆ 0.446      ┆ 103.019  ┆ 4.0             ┆ 148 │\n",
       "│        ┆            ┆ Like This       ┆      ┆   ┆            ┆          ┆                 ┆     │\n",
       "│ 999997 ┆ 999997     ┆ Feel It Still   ┆ 148  ┆ … ┆ 0.754      ┆ 79.028   ┆ 4.0             ┆ 149 │\n",
       "│ 999998 ┆ 999998     ┆ Ahora Dice -    ┆ 149  ┆ … ┆ 0.602      ┆ 143.92   ┆ 4.0             ┆ 150 │\n",
       "│        ┆            ┆ Real Hasta La   ┆      ┆   ┆            ┆          ┆                 ┆     │\n",
       "│        ┆            ┆ Mue…            ┆      ┆   ┆            ┆          ┆                 ┆     │\n",
       "│ 999999 ┆ 999999     ┆ Ay Mi Dios      ┆ 150  ┆ … ┆ 0.813      ┆ 92.033   ┆ 4.0             ┆ 151 │\n",
       "│        ┆            ┆ (feat. Pitbull, ┆      ┆   ┆            ┆          ┆                 ┆     │\n",
       "│        ┆            ┆ Yan…            ┆      ┆   ┆            ┆          ┆                 ┆     │\n",
       "└────────┴────────────┴─────────────────┴──────┴───┴────────────┴──────────┴─────────────────┴─────┘"
      ]
     },
     "execution_count": 23,
     "metadata": {},
     "output_type": "execute_result"
    }
   ],
   "source": [
    "total_metrics = total_metrics.with_columns(pl.Series(name=\"FillNaN\", values= get_metrics(\"df.with_columns(pl.col('af_instrumentalness').fill_null(pl.lit(0)))\",NUM_REP)))\n",
    "df.with_columns(pl.col('af_instrumentalness').fill_null(pl.lit(0)))"
   ]
  },
  {
   "cell_type": "code",
   "execution_count": 24,
   "id": "32dd3739-fd4e-4490-a137-33a9a53bc1aa",
   "metadata": {},
   "outputs": [
    {
     "name": "stdout",
     "output_type": "stream",
     "text": [
      "Tiempo de ejecución: 0.12086868286132812 segundos\n"
     ]
    }
   ],
   "source": [
    "total_metrics = total_metrics.with_columns(pl.Series(name=\"FillNaN\", values= get_metrics(\"df.select(pl.corr('af_energy','popularity'))\",NUM_REP)))\n"
   ]
  },
  {
   "cell_type": "markdown",
   "id": "9758db05-562c-4c37-92ab-5f1bd814b972",
   "metadata": {},
   "source": [
    "## Buscando duplicados"
   ]
  },
  {
   "cell_type": "code",
   "execution_count": 25,
   "id": "44e79387-8a15-46da-82cc-c927835f9536",
   "metadata": {},
   "outputs": [
    {
     "name": "stdout",
     "output_type": "stream",
     "text": [
      "Tiempo de ejecución: 17.08210515975952 segundos\n"
     ]
    }
   ],
   "source": [
    "total_metrics = total_metrics.with_columns(pl.Series(name=\"DUPL\", values= get_metrics(\"df.filter(pl.lit(df.is_duplicated()))\", NUM_REP)))"
   ]
  },
  {
   "cell_type": "markdown",
   "id": "dc663d93-e307-4e26-8cda-7ae7fca87862",
   "metadata": {},
   "source": [
    "## Calculando la matriz de correlación"
   ]
  },
  {
   "cell_type": "code",
   "execution_count": 26,
   "id": "8cba99c1-c20b-4972-a08b-0bcf1afe3797",
   "metadata": {},
   "outputs": [],
   "source": [
    "cols=['af_danceability','af_energy','af_key','af_loudness','af_mode','af_speechiness','af_acousticness','af_instrumentalness','af_liveness','af_valence','af_tempo','af_time_signature']"
   ]
  },
  {
   "cell_type": "code",
   "execution_count": 27,
   "id": "ca9246a9-95ab-4db9-b0ee-259d4523f52d",
   "metadata": {},
   "outputs": [
    {
     "data": {
      "text/html": [
       "<div><style>\n",
       ".dataframe > thead > tr,\n",
       ".dataframe > tbody > tr {\n",
       "  text-align: right;\n",
       "  white-space: pre-wrap;\n",
       "}\n",
       "</style>\n",
       "<small>shape: (12, 12)</small><table border=\"1\" class=\"dataframe\"><thead><tr><th>af_danceability</th><th>af_energy</th><th>af_key</th><th>af_loudness</th><th>af_mode</th><th>af_speechiness</th><th>af_acousticness</th><th>af_instrumentalness</th><th>af_liveness</th><th>af_valence</th><th>af_tempo</th><th>af_time_signature</th></tr><tr><td>f64</td><td>f64</td><td>f64</td><td>f64</td><td>f64</td><td>f64</td><td>f64</td><td>f64</td><td>f64</td><td>f64</td><td>f64</td><td>f64</td></tr></thead><tbody><tr><td>1.0</td><td>0.105572</td><td>-0.015537</td><td>0.144974</td><td>-0.093909</td><td>0.155674</td><td>-0.164772</td><td>-0.057742</td><td>-0.028654</td><td>0.385865</td><td>-0.159504</td><td>0.098096</td></tr><tr><td>0.105572</td><td>1.0</td><td>-0.004927</td><td>0.726027</td><td>-0.080365</td><td>0.02011</td><td>-0.543161</td><td>-0.04455</td><td>0.123136</td><td>0.374097</td><td>0.057901</td><td>0.126547</td></tr><tr><td>-0.015537</td><td>-0.004927</td><td>1.0</td><td>-0.036056</td><td>-0.142778</td><td>0.052981</td><td>-0.002208</td><td>-0.018269</td><td>-0.013005</td><td>0.024593</td><td>0.006936</td><td>-0.003691</td></tr><tr><td>0.144974</td><td>0.726027</td><td>-0.036056</td><td>1.0</td><td>-0.036283</td><td>-0.080218</td><td>-0.404018</td><td>-0.173348</td><td>0.060556</td><td>0.310972</td><td>0.019241</td><td>0.076625</td></tr><tr><td>-0.093909</td><td>-0.080365</td><td>-0.142778</td><td>-0.036283</td><td>1.0</td><td>-0.082904</td><td>0.07324</td><td>0.004485</td><td>-0.018529</td><td>-0.073904</td><td>0.032478</td><td>-0.028083</td></tr><tr><td>&hellip;</td><td>&hellip;</td><td>&hellip;</td><td>&hellip;</td><td>&hellip;</td><td>&hellip;</td><td>&hellip;</td><td>&hellip;</td><td>&hellip;</td><td>&hellip;</td><td>&hellip;</td><td>&hellip;</td></tr><tr><td>-0.057742</td><td>-0.04455</td><td>-0.018269</td><td>-0.173348</td><td>0.004485</td><td>-0.057135</td><td>0.070242</td><td>1.0</td><td>0.011364</td><td>-0.095358</td><td>0.008332</td><td>-0.029179</td></tr><tr><td>-0.028654</td><td>0.123136</td><td>-0.013005</td><td>0.060556</td><td>-0.018529</td><td>0.034989</td><td>-0.065475</td><td>0.011364</td><td>1.0</td><td>0.030387</td><td>0.005429</td><td>0.013763</td></tr><tr><td>0.385865</td><td>0.374097</td><td>0.024593</td><td>0.310972</td><td>-0.073904</td><td>0.061724</td><td>-0.100499</td><td>-0.095358</td><td>0.030387</td><td>1.0</td><td>-0.031098</td><td>0.080445</td></tr><tr><td>-0.159504</td><td>0.057901</td><td>0.006936</td><td>0.019241</td><td>0.032478</td><td>0.156125</td><td>-0.06667</td><td>0.008332</td><td>0.005429</td><td>-0.031098</td><td>1.0</td><td>-0.015899</td></tr><tr><td>0.098096</td><td>0.126547</td><td>-0.003691</td><td>0.076625</td><td>-0.028083</td><td>0.081672</td><td>-0.110649</td><td>-0.029179</td><td>0.013763</td><td>0.080445</td><td>-0.015899</td><td>1.0</td></tr></tbody></table></div>"
      ],
      "text/plain": [
       "shape: (12, 12)\n",
       "┌───────────┬───────────┬───────────┬───────────┬───┬───────────┬───────────┬───────────┬──────────┐\n",
       "│ af_dancea ┆ af_energy ┆ af_key    ┆ af_loudne ┆ … ┆ af_livene ┆ af_valenc ┆ af_tempo  ┆ af_time_ │\n",
       "│ bility    ┆ ---       ┆ ---       ┆ ss        ┆   ┆ ss        ┆ e         ┆ ---       ┆ signatur │\n",
       "│ ---       ┆ f64       ┆ f64       ┆ ---       ┆   ┆ ---       ┆ ---       ┆ f64       ┆ e        │\n",
       "│ f64       ┆           ┆           ┆ f64       ┆   ┆ f64       ┆ f64       ┆           ┆ ---      │\n",
       "│           ┆           ┆           ┆           ┆   ┆           ┆           ┆           ┆ f64      │\n",
       "╞═══════════╪═══════════╪═══════════╪═══════════╪═══╪═══════════╪═══════════╪═══════════╪══════════╡\n",
       "│ 1.0       ┆ 0.105572  ┆ -0.015537 ┆ 0.144974  ┆ … ┆ -0.028654 ┆ 0.385865  ┆ -0.159504 ┆ 0.098096 │\n",
       "│ 0.105572  ┆ 1.0       ┆ -0.004927 ┆ 0.726027  ┆ … ┆ 0.123136  ┆ 0.374097  ┆ 0.057901  ┆ 0.126547 │\n",
       "│ -0.015537 ┆ -0.004927 ┆ 1.0       ┆ -0.036056 ┆ … ┆ -0.013005 ┆ 0.024593  ┆ 0.006936  ┆ -0.00369 │\n",
       "│           ┆           ┆           ┆           ┆   ┆           ┆           ┆           ┆ 1        │\n",
       "│ 0.144974  ┆ 0.726027  ┆ -0.036056 ┆ 1.0       ┆ … ┆ 0.060556  ┆ 0.310972  ┆ 0.019241  ┆ 0.076625 │\n",
       "│ -0.093909 ┆ -0.080365 ┆ -0.142778 ┆ -0.036283 ┆ … ┆ -0.018529 ┆ -0.073904 ┆ 0.032478  ┆ -0.02808 │\n",
       "│           ┆           ┆           ┆           ┆   ┆           ┆           ┆           ┆ 3        │\n",
       "│ …         ┆ …         ┆ …         ┆ …         ┆ … ┆ …         ┆ …         ┆ …         ┆ …        │\n",
       "│ -0.057742 ┆ -0.04455  ┆ -0.018269 ┆ -0.173348 ┆ … ┆ 0.011364  ┆ -0.095358 ┆ 0.008332  ┆ -0.02917 │\n",
       "│           ┆           ┆           ┆           ┆   ┆           ┆           ┆           ┆ 9        │\n",
       "│ -0.028654 ┆ 0.123136  ┆ -0.013005 ┆ 0.060556  ┆ … ┆ 1.0       ┆ 0.030387  ┆ 0.005429  ┆ 0.013763 │\n",
       "│ 0.385865  ┆ 0.374097  ┆ 0.024593  ┆ 0.310972  ┆ … ┆ 0.030387  ┆ 1.0       ┆ -0.031098 ┆ 0.080445 │\n",
       "│ -0.159504 ┆ 0.057901  ┆ 0.006936  ┆ 0.019241  ┆ … ┆ 0.005429  ┆ -0.031098 ┆ 1.0       ┆ -0.01589 │\n",
       "│           ┆           ┆           ┆           ┆   ┆           ┆           ┆           ┆ 9        │\n",
       "│ 0.098096  ┆ 0.126547  ┆ -0.003691 ┆ 0.076625  ┆ … ┆ 0.013763  ┆ 0.080445  ┆ -0.015899 ┆ 1.0      │\n",
       "└───────────┴───────────┴───────────┴───────────┴───┴───────────┴───────────┴───────────┴──────────┘"
      ]
     },
     "execution_count": 27,
     "metadata": {},
     "output_type": "execute_result"
    }
   ],
   "source": [
    "df.select([pl.struct(pl.corr(pl.all(),pl.col(c))).alias(c) for c in cols]).melt().unnest(\"value\").select(cols)"
   ]
  },
  {
   "cell_type": "markdown",
   "id": "6ae7584b-df22-40dc-80fa-93100ddbcb2d",
   "metadata": {},
   "source": [
    "## Ejecutando una consulta SQL"
   ]
  },
  {
   "cell_type": "code",
   "execution_count": 28,
   "id": "19db181a-d7e5-4c48-b0b3-dbfe49037851",
   "metadata": {},
   "outputs": [
    {
     "name": "stdout",
     "output_type": "stream",
     "text": [
      "Tiempo de ejecución: 0.04206037521362305 segundos\n"
     ]
    },
    {
     "data": {
      "text/html": [
       "<div><style>\n",
       ".dataframe > thead > tr,\n",
       ".dataframe > tbody > tr {\n",
       "  text-align: right;\n",
       "  white-space: pre-wrap;\n",
       "}\n",
       "</style>\n",
       "<small>shape: (20_653, 2)</small><table border=\"1\" class=\"dataframe\"><thead><tr><th>title</th><th>artist</th></tr><tr><td>str</td><td>str</td></tr></thead><tbody><tr><td>&quot;Chantaje (feat. Maluma)&quot;</td><td>&quot;Shakira&quot;</td></tr><tr><td>&quot;Vente Pa&#x27; Ca (feat. Maluma)&quot;</td><td>&quot;Ricky Martin&quot;</td></tr><tr><td>&quot;Reggaetón Lento (Bailemos)&quot;</td><td>&quot;CNCO&quot;</td></tr><tr><td>&quot;Safari&quot;</td><td>&quot;J Balvin, Pharrell Williams, B…</td></tr><tr><td>&quot;Shaky Shaky&quot;</td><td>&quot;Daddy Yankee&quot;</td></tr><tr><td>&hellip;</td><td>&hellip;</td></tr><tr><td>&quot;El Desorden&quot;</td><td>&quot;Ozuna, Daddy Yankee, Plan B&quot;</td></tr><tr><td>&quot;Seguir Viviendo Sin Tu Amor&quot;</td><td>&quot;Luis Alberto Spinetta&quot;</td></tr><tr><td>&quot;Nada De Nada (feat. Klave)&quot;</td><td>&quot;Coscu&quot;</td></tr><tr><td>&quot;Rocanroles Sin Destino&quot;</td><td>&quot;Callejeros&quot;</td></tr><tr><td>&quot;Ready for the Night&quot;</td><td>&quot;Duki, NahueMC, 808god&quot;</td></tr></tbody></table></div>"
      ],
      "text/plain": [
       "shape: (20_653, 2)\n",
       "┌─────────────────────────────┬─────────────────────────────────┐\n",
       "│ title                       ┆ artist                          │\n",
       "│ ---                         ┆ ---                             │\n",
       "│ str                         ┆ str                             │\n",
       "╞═════════════════════════════╪═════════════════════════════════╡\n",
       "│ Chantaje (feat. Maluma)     ┆ Shakira                         │\n",
       "│ Vente Pa' Ca (feat. Maluma) ┆ Ricky Martin                    │\n",
       "│ Reggaetón Lento (Bailemos)  ┆ CNCO                            │\n",
       "│ Safari                      ┆ J Balvin, Pharrell Williams, B… │\n",
       "│ Shaky Shaky                 ┆ Daddy Yankee                    │\n",
       "│ …                           ┆ …                               │\n",
       "│ El Desorden                 ┆ Ozuna, Daddy Yankee, Plan B     │\n",
       "│ Seguir Viviendo Sin Tu Amor ┆ Luis Alberto Spinetta           │\n",
       "│ Nada De Nada (feat. Klave)  ┆ Coscu                           │\n",
       "│ Rocanroles Sin Destino      ┆ Callejeros                      │\n",
       "│ Ready for the Night         ┆ Duki, NahueMC, 808god           │\n",
       "└─────────────────────────────┴─────────────────────────────────┘"
      ]
     },
     "execution_count": 28,
     "metadata": {},
     "output_type": "execute_result"
    }
   ],
   "source": [
    "total_metrics = total_metrics.with_columns(pl.Series(name=\"SQL\", values= get_metrics(\"pl.SQLContext(frame=df.lazy()).execute(\\\"SELECT title, artist FROM frame WHERE region = 'Argentina' \\\").collect()\",NUM_REP)))\n",
    "pl.SQLContext(frame=df.lazy()).execute(\"SELECT title, artist FROM frame WHERE region = 'Argentina' \").collect()\n"
   ]
  },
  {
   "cell_type": "markdown",
   "id": "7f32745f-ac96-40fe-a688-cebcc906c46d",
   "metadata": {},
   "source": [
    "## Guardando como parquet"
   ]
  },
  {
   "cell_type": "code",
   "execution_count": 29,
   "id": "9ac888b6-66fb-4a2e-86c1-0016fc1e43d8",
   "metadata": {},
   "outputs": [
    {
     "name": "stdout",
     "output_type": "stream",
     "text": [
      "Tiempo de ejecución: 15.993079662322998 segundos\n"
     ]
    }
   ],
   "source": [
    "total_metrics = total_metrics.with_columns(pl.Series(name=\"Write\", values= get_metrics(\"df.write_parquet('dfpolars')\",NUM_REP)))\n",
    "df.write_parquet('dfpolars.parquet')\n"
   ]
  },
  {
   "cell_type": "code",
   "execution_count": 30,
   "id": "603a4dd3-c89c-4e1e-bfa3-78b20e8a1134",
   "metadata": {},
   "outputs": [
    {
     "data": {
      "text/plain": [
       "40236410"
      ]
     },
     "execution_count": 30,
     "metadata": {},
     "output_type": "execute_result"
    }
   ],
   "source": [
    "Path('dfpolars.parquet').stat().st_size"
   ]
  },
  {
   "cell_type": "markdown",
   "id": "c5e18728-556f-402b-8cc2-3ea4e634348e",
   "metadata": {},
   "source": [
    "<h1 style='color:#d2ff91;' align=\"center\">Graficando los resultados<h1>"
   ]
  },
  {
   "cell_type": "code",
   "execution_count": 31,
   "id": "b5cfec31-ebf6-4a45-9a34-e9fa2d9826bc",
   "metadata": {},
   "outputs": [
    {
     "data": {
      "image/png": "[encoded data removed]",
      "text/plain": [
       "<Figure size 1200x600 with 1 Axes>"
      ]
     },
     "metadata": {},
     "output_type": "display_data"
    }
   ],
   "source": [
    "means = total_metrics.mean()\n",
    "stds = total_metrics.std()\n",
    "plt.figure(figsize=(12, 6))\n",
    "ax= plt.subplot(1,1,1)\n",
    "ax.set_adjustable(\"datalim\")\n",
    "colormap = cm.gist_ncar\n",
    "normalize = mcolors.Normalize(vmin=0, vmax=means.width)\n",
    "\n",
    "for i,col in enumerate(total_metrics.columns):\n",
    "    mean = means[col]\n",
    "    std = stds[col]\n",
    "    x = np.linspace(mean - 3*std, mean + 3*std, NUM_REP)\n",
    "    plt.plot(x, norm.pdf(x, mean, std), label=f'{col}',color = colormap(normalize(i)))\n",
    "\n",
    "img = plt.imread(\"img/pl.png\")\n",
    "im = OffsetImage(img, zoom=.05)\n",
    "ab = AnnotationBbox(im, (1, 0), xycoords='axes fraction', box_alignment=(1.1,-0.1))\n",
    "ax.add_artist(ab)\n",
    "plt.legend(loc='upper right')\n",
    "plt.title('Distribuciones Normales de las Operaciones')\n",
    "plt.xlabel('Tiempo')\n",
    "plt.ylabel('Densidad')\n",
    "plt.yscale('log')\n",
    "\n",
    "plt.grid(True)\n",
    "plt.show()"
   ]
  },
  {
   "cell_type": "markdown",
   "id": "2f49035f-c54d-414f-8a4b-5f635fc0bbd8",
   "metadata": {},
   "source": [
    "### Eliminando las 6 operaciones que consumen más tiempo"
   ]
  },
  {
   "cell_type": "code",
   "execution_count": 32,
   "id": "af7564d7-d1ae-40d5-9047-3af434b52958",
   "metadata": {},
   "outputs": [
    {
     "data": {
      "image/png": "[encoded data removed]",
      "text/plain": [
       "<Figure size 1200x600 with 1 Axes>"
      ]
     },
     "metadata": {},
     "output_type": "display_data"
    }
   ],
   "source": [
    "total_metrics= total_metrics.drop([\"DUPL\",\"SQL\",\"Load\",\"Write\",\"Describe\",\"Sort\"])\n",
    "means = total_metrics.mean()\n",
    "stds = total_metrics.std()\n",
    "plt.figure(figsize=(12, 6))\n",
    "ax= plt.subplot(1,1,1)\n",
    "ax.set_adjustable(\"datalim\")\n",
    "colormap = cm.gist_ncar\n",
    "normalize = mcolors.Normalize(vmin=0, vmax=means.width)\n",
    "\n",
    "for i,col in enumerate(total_metrics.columns):\n",
    "    mean = means[col]\n",
    "    std = stds[col]\n",
    "    x = np.linspace(mean - 3*std, mean + 3*std, NUM_REP)\n",
    "    plt.plot(x, norm.pdf(x, mean, std), label=f'{col}',color = colormap(normalize(i)))\n",
    "\n",
    "img = plt.imread(\"img/pl.png\")\n",
    "im = OffsetImage(img, zoom=.05)\n",
    "ab = AnnotationBbox(im, (1, 0), xycoords='axes fraction', box_alignment=(1.1,-0.1))\n",
    "ax.add_artist(ab)\n",
    "plt.legend()\n",
    "plt.title('Distribuciones Normales de las Operaciones')\n",
    "plt.xlabel('Tiempo')\n",
    "plt.ylabel('Densidad')\n",
    "plt.yscale('log')\n",
    "\n",
    "plt.grid(True)\n",
    "plt.show()"
   ]
  },
  {
   "cell_type": "markdown",
   "id": "81e9ae83-2bbf-46dc-a04e-d80b5e258964",
   "metadata": {},
   "source": [
    "Un benchmark más intensivo se puede encontrar en:\n",
    "https://h2oai.github.io/db-benchmark/"
   ]
  },
  {
   "cell_type": "markdown",
   "id": "f4f6dae4-e48c-4f6f-ba25-0423d17ffce2",
   "metadata": {},
   "source": [
    "![DF](img/PolarTable.png)"
   ]
  }
 ],
 "metadata": {
  "kernelspec": {
   "display_name": "Python 3 (ipykernel)",
   "language": "python",
   "name": "python3"
  },
  "language_info": {
   "codemirror_mode": {
    "name": "ipython",
    "version": 3
   },
   "file_extension": ".py",
   "mimetype": "text/x-python",
   "name": "python",
   "nbconvert_exporter": "python",
   "pygments_lexer": "ipython3",
   "version": "3.11.6"
  }
 },
 "nbformat": 4,
 "nbformat_minor": 5
}
